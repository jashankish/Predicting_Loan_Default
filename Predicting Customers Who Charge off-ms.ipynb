{
 "cells": [
  {
   "cell_type": "markdown",
   "metadata": {
    "_cell_guid": "2f7a0904-0c00-44ab-94d2-5e384a712179",
    "_uuid": "459c4e0f50d6d1e05e1d6e56fcd608b5ef97fcfa"
   },
   "source": [
    "# Predicting customers who will \"charge-off\""
   ]
  },
  {
   "cell_type": "markdown",
   "metadata": {
    "_cell_guid": "1035f4c9-a6a2-4134-8790-ea463d04141e",
    "_uuid": "6f691b352c268a6d8327ba8af16d192d9f2f63d7"
   },
   "source": [
    "#Define charge-off\n",
    "Steps:\n",
    "1. Data Cleaning\n",
    "2. Feature selection and transformation\n",
    "3. Build the models\n",
    "4. Test the models"
   ]
  },
  {
   "cell_type": "markdown",
   "metadata": {},
   "source": [
    "Before starting: Install the imblearn python package on your computer! \n",
    "    \n",
    "    Run the following in terminal: pip install -U imbalanced-learn"
   ]
  },
  {
   "cell_type": "markdown",
   "metadata": {
    "_cell_guid": "f301410c-84bb-43cc-b933-612fc4737a6d",
    "_uuid": "c5f69760a462376cb9161f7ba7f8de121a0df996"
   },
   "source": [
    "Let's load the libraries, connect to the database, parse dates and load all data in-memory. Make sure the three files database.sqlite, LCDataDictionary.xlsx, and loan.csv are all in the same folder as this notebook."
   ]
  },
  {
   "cell_type": "code",
   "execution_count": 1,
   "metadata": {
    "_cell_guid": "a5dcdb06-f087-4af2-b669-102ce442834f",
    "_uuid": "a1a8dd2e4f8b7271434c1832738d1339485e8fa5"
   },
   "outputs": [],
   "source": [
    "import sqlite3 #this library manages sql databases\n",
    "import pandas as pd  #this library enables data manipulation and analysis methods to be used in Python\n",
    "import numpy as np #this library focuses on scientific computing and using arrays and matrices\n",
    "%matplotlib inline \n",
    "import matplotlib.pyplot as plt #this imports the matplotlib library, along with the interactive plotting pylab module\n",
    "\n",
    "conn = sqlite3.connect('database.sqlite') # This runs sql within Python; will take a few minutes to run - literally, a few minutes\n",
    "to_parse = ['issue_d' , 'earliest_cr_line', 'last_pymnt_d', 'next_pymnt_d', 'last_credit_pull_d'] #takes a look at the columns, and cuts them up along columns, extracts columns so we can build a Python dataframe\n",
    "df = pd.read_sql_query('select * from loan', con=conn, parse_dates = to_parse) #pandas feature, read SQL query into dataframe and load in-memory"
   ]
  },
  {
   "cell_type": "code",
   "execution_count": 2,
   "metadata": {
    "scrolled": true
   },
   "outputs": [
    {
     "data": {
      "text/html": [
       "<div>\n",
       "<style scoped>\n",
       "    .dataframe tbody tr th:only-of-type {\n",
       "        vertical-align: middle;\n",
       "    }\n",
       "\n",
       "    .dataframe tbody tr th {\n",
       "        vertical-align: top;\n",
       "    }\n",
       "\n",
       "    .dataframe thead th {\n",
       "        text-align: right;\n",
       "    }\n",
       "</style>\n",
       "<table border=\"1\" class=\"dataframe\">\n",
       "  <thead>\n",
       "    <tr style=\"text-align: right;\">\n",
       "      <th></th>\n",
       "      <th>index</th>\n",
       "      <th>id</th>\n",
       "      <th>member_id</th>\n",
       "      <th>loan_amnt</th>\n",
       "      <th>funded_amnt</th>\n",
       "      <th>funded_amnt_inv</th>\n",
       "      <th>term</th>\n",
       "      <th>int_rate</th>\n",
       "      <th>installment</th>\n",
       "      <th>grade</th>\n",
       "      <th>...</th>\n",
       "      <th>total_bal_il</th>\n",
       "      <th>il_util</th>\n",
       "      <th>open_rv_12m</th>\n",
       "      <th>open_rv_24m</th>\n",
       "      <th>max_bal_bc</th>\n",
       "      <th>all_util</th>\n",
       "      <th>total_rev_hi_lim</th>\n",
       "      <th>inq_fi</th>\n",
       "      <th>total_cu_tl</th>\n",
       "      <th>inq_last_12m</th>\n",
       "    </tr>\n",
       "  </thead>\n",
       "  <tbody>\n",
       "    <tr>\n",
       "      <th>0</th>\n",
       "      <td>0</td>\n",
       "      <td>1077501</td>\n",
       "      <td>1296599.0</td>\n",
       "      <td>5000.0</td>\n",
       "      <td>5000.0</td>\n",
       "      <td>4975.0</td>\n",
       "      <td>36 months</td>\n",
       "      <td>10.65%</td>\n",
       "      <td>162.87</td>\n",
       "      <td>B</td>\n",
       "      <td>...</td>\n",
       "      <td>NaN</td>\n",
       "      <td>NaN</td>\n",
       "      <td>NaN</td>\n",
       "      <td>NaN</td>\n",
       "      <td>NaN</td>\n",
       "      <td>NaN</td>\n",
       "      <td>NaN</td>\n",
       "      <td>NaN</td>\n",
       "      <td>NaN</td>\n",
       "      <td>NaN</td>\n",
       "    </tr>\n",
       "    <tr>\n",
       "      <th>1</th>\n",
       "      <td>1</td>\n",
       "      <td>1077430</td>\n",
       "      <td>1314167.0</td>\n",
       "      <td>2500.0</td>\n",
       "      <td>2500.0</td>\n",
       "      <td>2500.0</td>\n",
       "      <td>60 months</td>\n",
       "      <td>15.27%</td>\n",
       "      <td>59.83</td>\n",
       "      <td>C</td>\n",
       "      <td>...</td>\n",
       "      <td>NaN</td>\n",
       "      <td>NaN</td>\n",
       "      <td>NaN</td>\n",
       "      <td>NaN</td>\n",
       "      <td>NaN</td>\n",
       "      <td>NaN</td>\n",
       "      <td>NaN</td>\n",
       "      <td>NaN</td>\n",
       "      <td>NaN</td>\n",
       "      <td>NaN</td>\n",
       "    </tr>\n",
       "    <tr>\n",
       "      <th>2</th>\n",
       "      <td>2</td>\n",
       "      <td>1077175</td>\n",
       "      <td>1313524.0</td>\n",
       "      <td>2400.0</td>\n",
       "      <td>2400.0</td>\n",
       "      <td>2400.0</td>\n",
       "      <td>36 months</td>\n",
       "      <td>15.96%</td>\n",
       "      <td>84.33</td>\n",
       "      <td>C</td>\n",
       "      <td>...</td>\n",
       "      <td>NaN</td>\n",
       "      <td>NaN</td>\n",
       "      <td>NaN</td>\n",
       "      <td>NaN</td>\n",
       "      <td>NaN</td>\n",
       "      <td>NaN</td>\n",
       "      <td>NaN</td>\n",
       "      <td>NaN</td>\n",
       "      <td>NaN</td>\n",
       "      <td>NaN</td>\n",
       "    </tr>\n",
       "    <tr>\n",
       "      <th>3</th>\n",
       "      <td>3</td>\n",
       "      <td>1076863</td>\n",
       "      <td>1277178.0</td>\n",
       "      <td>10000.0</td>\n",
       "      <td>10000.0</td>\n",
       "      <td>10000.0</td>\n",
       "      <td>36 months</td>\n",
       "      <td>13.49%</td>\n",
       "      <td>339.31</td>\n",
       "      <td>C</td>\n",
       "      <td>...</td>\n",
       "      <td>NaN</td>\n",
       "      <td>NaN</td>\n",
       "      <td>NaN</td>\n",
       "      <td>NaN</td>\n",
       "      <td>NaN</td>\n",
       "      <td>NaN</td>\n",
       "      <td>NaN</td>\n",
       "      <td>NaN</td>\n",
       "      <td>NaN</td>\n",
       "      <td>NaN</td>\n",
       "    </tr>\n",
       "    <tr>\n",
       "      <th>4</th>\n",
       "      <td>4</td>\n",
       "      <td>1075358</td>\n",
       "      <td>1311748.0</td>\n",
       "      <td>3000.0</td>\n",
       "      <td>3000.0</td>\n",
       "      <td>3000.0</td>\n",
       "      <td>60 months</td>\n",
       "      <td>12.69%</td>\n",
       "      <td>67.79</td>\n",
       "      <td>B</td>\n",
       "      <td>...</td>\n",
       "      <td>NaN</td>\n",
       "      <td>NaN</td>\n",
       "      <td>NaN</td>\n",
       "      <td>NaN</td>\n",
       "      <td>NaN</td>\n",
       "      <td>NaN</td>\n",
       "      <td>NaN</td>\n",
       "      <td>NaN</td>\n",
       "      <td>NaN</td>\n",
       "      <td>NaN</td>\n",
       "    </tr>\n",
       "  </tbody>\n",
       "</table>\n",
       "<p>5 rows × 75 columns</p>\n",
       "</div>"
      ],
      "text/plain": [
       "   index       id  member_id  loan_amnt  funded_amnt  funded_amnt_inv  \\\n",
       "0      0  1077501  1296599.0     5000.0       5000.0           4975.0   \n",
       "1      1  1077430  1314167.0     2500.0       2500.0           2500.0   \n",
       "2      2  1077175  1313524.0     2400.0       2400.0           2400.0   \n",
       "3      3  1076863  1277178.0    10000.0      10000.0          10000.0   \n",
       "4      4  1075358  1311748.0     3000.0       3000.0           3000.0   \n",
       "\n",
       "         term int_rate  installment grade     ...      total_bal_il il_util  \\\n",
       "0   36 months   10.65%       162.87     B     ...               NaN     NaN   \n",
       "1   60 months   15.27%        59.83     C     ...               NaN     NaN   \n",
       "2   36 months   15.96%        84.33     C     ...               NaN     NaN   \n",
       "3   36 months   13.49%       339.31     C     ...               NaN     NaN   \n",
       "4   60 months   12.69%        67.79     B     ...               NaN     NaN   \n",
       "\n",
       "  open_rv_12m open_rv_24m  max_bal_bc all_util total_rev_hi_lim inq_fi  \\\n",
       "0         NaN         NaN         NaN      NaN              NaN    NaN   \n",
       "1         NaN         NaN         NaN      NaN              NaN    NaN   \n",
       "2         NaN         NaN         NaN      NaN              NaN    NaN   \n",
       "3         NaN         NaN         NaN      NaN              NaN    NaN   \n",
       "4         NaN         NaN         NaN      NaN              NaN    NaN   \n",
       "\n",
       "  total_cu_tl inq_last_12m  \n",
       "0         NaN          NaN  \n",
       "1         NaN          NaN  \n",
       "2         NaN          NaN  \n",
       "3         NaN          NaN  \n",
       "4         NaN          NaN  \n",
       "\n",
       "[5 rows x 75 columns]"
      ]
     },
     "execution_count": 2,
     "metadata": {},
     "output_type": "execute_result"
    }
   ],
   "source": [
    "df.head() #shows the first few rows of the pandas dataframe we created; allows you to see the variables"
   ]
  },
  {
   "cell_type": "code",
   "execution_count": 3,
   "metadata": {},
   "outputs": [
    {
     "name": "stdout",
     "output_type": "stream",
     "text": [
      "The shape is (887383, 75)\n",
      "Memory : 532 Mb\n"
     ]
    }
   ],
   "source": [
    "print('The shape is {}'.format(df.shape)) #tells us no of rows and columns of the df\n",
    "print('Memory : {} Mb'.format(int(df.memory_usage(deep=False).sum() / 1000000))) #tells us how big the df is in Mb"
   ]
  },
  {
   "cell_type": "markdown",
   "metadata": {},
   "source": [
    "That's a fairly large dataframe! Perhaps we can reduce its size without loss by removing cells with little information. (What does \"little information\" mean?) This will serve to make the dataframe more manageable."
   ]
  },
  {
   "cell_type": "markdown",
   "metadata": {},
   "source": [
    "For this first assignment, we will remove columns whose cells are missing more than 60% of their values. "
   ]
  },
  {
   "cell_type": "markdown",
   "metadata": {
    "_cell_guid": "2117b059-a562-4617-8fb1-9efff1b01f11",
    "_uuid": "0d154d0229d61f015a4e469388a874b84ee468a7"
   },
   "source": [
    "## Data Cleaning"
   ]
  },
  {
   "cell_type": "markdown",
   "metadata": {
    "_cell_guid": "41275678-fff6-4479-83fa-239730a09cd6",
    "_uuid": "7529eb5687354a7e7b87ce8efcf52d02e2ad59d5"
   },
   "source": [
    "\n",
    "### Check which features have good coverage, e.g. more/less than N% missing values"
   ]
  },
  {
   "cell_type": "code",
   "execution_count": 4,
   "metadata": {
    "_cell_guid": "e7a82363-2bff-4e84-bb8a-6a252a203016",
    "_uuid": "73e0e88ed8760aaae223f9a4a277b046a5823a67",
    "scrolled": true
   },
   "outputs": [
    {
     "data": {
      "text/plain": [
       "dti_joint                      0.999426\n",
       "verification_status_joint      0.999424\n",
       "annual_inc_joint               0.999424\n",
       "il_util                        0.979020\n",
       "mths_since_rcnt_il             0.976549\n",
       "all_util                       0.975916\n",
       "max_bal_bc                     0.975916\n",
       "open_rv_24m                    0.975916\n",
       "open_rv_12m                    0.975916\n",
       "total_cu_tl                    0.975916\n",
       "total_bal_il                   0.975916\n",
       "open_il_24m                    0.975916\n",
       "open_il_12m                    0.975916\n",
       "open_il_6m                     0.975916\n",
       "open_acc_6m                    0.975916\n",
       "inq_fi                         0.975916\n",
       "inq_last_12m                   0.975916\n",
       "desc                           0.857977\n",
       "mths_since_last_record         0.845554\n",
       "mths_since_last_major_derog    0.750160\n",
       "dtype: float64"
      ]
     },
     "execution_count": 4,
     "metadata": {},
     "output_type": "execute_result"
    }
   ],
   "source": [
    "check_null = df.isnull().sum(axis=0).sort_values(ascending=False)/float(len(df))#.isnull() is a pandas feature that checks for missing values\n",
    "#.sum() is a feature that will sum the previous feature of how many null values, with axis = 0 representing a vertical concatenation, which checks down the column of each dataframe. If axis = 1, this would be a horizontal concatenation checking each row instead of columns\n",
    "#sort_values will then sort the results, with ascending = False meaning that results will be sorted is a descending order. This is all divided by the length of the dataframe, which has been converted to a float value\n",
    "check_null[check_null>0.6] #outputs the feature and fraction of missing values"
   ]
  },
  {
   "cell_type": "markdown",
   "metadata": {},
   "source": [
    "How many columns have more than 60% missing?"
   ]
  },
  {
   "cell_type": "code",
   "execution_count": 5,
   "metadata": {},
   "outputs": [
    {
     "data": {
      "text/plain": [
       "20"
      ]
     },
     "execution_count": 5,
     "metadata": {},
     "output_type": "execute_result"
    }
   ],
   "source": [
    "check_null[check_null>0.6].size #.size is a feature that returns how big a series is. Check_null is a series which checks for how many columns have more than 60% of their values missing, meaning that 20 columns have more than 60% of data missing\n",
    "#check_null is the overall series we are checking, but we must specify [check_null>0.6] to capture that we are looking for specifically parts of the series that have >60% data missing"
   ]
  },
  {
   "cell_type": "code",
   "execution_count": 6,
   "metadata": {},
   "outputs": [
    {
     "data": {
      "text/html": [
       "<div>\n",
       "<style scoped>\n",
       "    .dataframe tbody tr th:only-of-type {\n",
       "        vertical-align: middle;\n",
       "    }\n",
       "\n",
       "    .dataframe tbody tr th {\n",
       "        vertical-align: top;\n",
       "    }\n",
       "\n",
       "    .dataframe thead th {\n",
       "        text-align: right;\n",
       "    }\n",
       "</style>\n",
       "<table border=\"1\" class=\"dataframe\">\n",
       "  <thead>\n",
       "    <tr style=\"text-align: right;\">\n",
       "      <th></th>\n",
       "      <th>index</th>\n",
       "      <th>id</th>\n",
       "      <th>member_id</th>\n",
       "      <th>loan_amnt</th>\n",
       "      <th>funded_amnt</th>\n",
       "      <th>funded_amnt_inv</th>\n",
       "      <th>term</th>\n",
       "      <th>int_rate</th>\n",
       "      <th>installment</th>\n",
       "      <th>grade</th>\n",
       "      <th>...</th>\n",
       "      <th>total_bal_il</th>\n",
       "      <th>il_util</th>\n",
       "      <th>open_rv_12m</th>\n",
       "      <th>open_rv_24m</th>\n",
       "      <th>max_bal_bc</th>\n",
       "      <th>all_util</th>\n",
       "      <th>total_rev_hi_lim</th>\n",
       "      <th>inq_fi</th>\n",
       "      <th>total_cu_tl</th>\n",
       "      <th>inq_last_12m</th>\n",
       "    </tr>\n",
       "  </thead>\n",
       "  <tbody>\n",
       "    <tr>\n",
       "      <th>0</th>\n",
       "      <td>0</td>\n",
       "      <td>1077501</td>\n",
       "      <td>1296599.0</td>\n",
       "      <td>5000.0</td>\n",
       "      <td>5000.0</td>\n",
       "      <td>4975.0</td>\n",
       "      <td>36 months</td>\n",
       "      <td>10.65%</td>\n",
       "      <td>162.87</td>\n",
       "      <td>B</td>\n",
       "      <td>...</td>\n",
       "      <td>NaN</td>\n",
       "      <td>NaN</td>\n",
       "      <td>NaN</td>\n",
       "      <td>NaN</td>\n",
       "      <td>NaN</td>\n",
       "      <td>NaN</td>\n",
       "      <td>NaN</td>\n",
       "      <td>NaN</td>\n",
       "      <td>NaN</td>\n",
       "      <td>NaN</td>\n",
       "    </tr>\n",
       "    <tr>\n",
       "      <th>1</th>\n",
       "      <td>1</td>\n",
       "      <td>1077430</td>\n",
       "      <td>1314167.0</td>\n",
       "      <td>2500.0</td>\n",
       "      <td>2500.0</td>\n",
       "      <td>2500.0</td>\n",
       "      <td>60 months</td>\n",
       "      <td>15.27%</td>\n",
       "      <td>59.83</td>\n",
       "      <td>C</td>\n",
       "      <td>...</td>\n",
       "      <td>NaN</td>\n",
       "      <td>NaN</td>\n",
       "      <td>NaN</td>\n",
       "      <td>NaN</td>\n",
       "      <td>NaN</td>\n",
       "      <td>NaN</td>\n",
       "      <td>NaN</td>\n",
       "      <td>NaN</td>\n",
       "      <td>NaN</td>\n",
       "      <td>NaN</td>\n",
       "    </tr>\n",
       "    <tr>\n",
       "      <th>2</th>\n",
       "      <td>2</td>\n",
       "      <td>1077175</td>\n",
       "      <td>1313524.0</td>\n",
       "      <td>2400.0</td>\n",
       "      <td>2400.0</td>\n",
       "      <td>2400.0</td>\n",
       "      <td>36 months</td>\n",
       "      <td>15.96%</td>\n",
       "      <td>84.33</td>\n",
       "      <td>C</td>\n",
       "      <td>...</td>\n",
       "      <td>NaN</td>\n",
       "      <td>NaN</td>\n",
       "      <td>NaN</td>\n",
       "      <td>NaN</td>\n",
       "      <td>NaN</td>\n",
       "      <td>NaN</td>\n",
       "      <td>NaN</td>\n",
       "      <td>NaN</td>\n",
       "      <td>NaN</td>\n",
       "      <td>NaN</td>\n",
       "    </tr>\n",
       "    <tr>\n",
       "      <th>3</th>\n",
       "      <td>3</td>\n",
       "      <td>1076863</td>\n",
       "      <td>1277178.0</td>\n",
       "      <td>10000.0</td>\n",
       "      <td>10000.0</td>\n",
       "      <td>10000.0</td>\n",
       "      <td>36 months</td>\n",
       "      <td>13.49%</td>\n",
       "      <td>339.31</td>\n",
       "      <td>C</td>\n",
       "      <td>...</td>\n",
       "      <td>NaN</td>\n",
       "      <td>NaN</td>\n",
       "      <td>NaN</td>\n",
       "      <td>NaN</td>\n",
       "      <td>NaN</td>\n",
       "      <td>NaN</td>\n",
       "      <td>NaN</td>\n",
       "      <td>NaN</td>\n",
       "      <td>NaN</td>\n",
       "      <td>NaN</td>\n",
       "    </tr>\n",
       "    <tr>\n",
       "      <th>4</th>\n",
       "      <td>4</td>\n",
       "      <td>1075358</td>\n",
       "      <td>1311748.0</td>\n",
       "      <td>3000.0</td>\n",
       "      <td>3000.0</td>\n",
       "      <td>3000.0</td>\n",
       "      <td>60 months</td>\n",
       "      <td>12.69%</td>\n",
       "      <td>67.79</td>\n",
       "      <td>B</td>\n",
       "      <td>...</td>\n",
       "      <td>NaN</td>\n",
       "      <td>NaN</td>\n",
       "      <td>NaN</td>\n",
       "      <td>NaN</td>\n",
       "      <td>NaN</td>\n",
       "      <td>NaN</td>\n",
       "      <td>NaN</td>\n",
       "      <td>NaN</td>\n",
       "      <td>NaN</td>\n",
       "      <td>NaN</td>\n",
       "    </tr>\n",
       "  </tbody>\n",
       "</table>\n",
       "<p>5 rows × 75 columns</p>\n",
       "</div>"
      ],
      "text/plain": [
       "   index       id  member_id  loan_amnt  funded_amnt  funded_amnt_inv  \\\n",
       "0      0  1077501  1296599.0     5000.0       5000.0           4975.0   \n",
       "1      1  1077430  1314167.0     2500.0       2500.0           2500.0   \n",
       "2      2  1077175  1313524.0     2400.0       2400.0           2400.0   \n",
       "3      3  1076863  1277178.0    10000.0      10000.0          10000.0   \n",
       "4      4  1075358  1311748.0     3000.0       3000.0           3000.0   \n",
       "\n",
       "         term int_rate  installment grade     ...      total_bal_il il_util  \\\n",
       "0   36 months   10.65%       162.87     B     ...               NaN     NaN   \n",
       "1   60 months   15.27%        59.83     C     ...               NaN     NaN   \n",
       "2   36 months   15.96%        84.33     C     ...               NaN     NaN   \n",
       "3   36 months   13.49%       339.31     C     ...               NaN     NaN   \n",
       "4   60 months   12.69%        67.79     B     ...               NaN     NaN   \n",
       "\n",
       "  open_rv_12m open_rv_24m  max_bal_bc all_util total_rev_hi_lim inq_fi  \\\n",
       "0         NaN         NaN         NaN      NaN              NaN    NaN   \n",
       "1         NaN         NaN         NaN      NaN              NaN    NaN   \n",
       "2         NaN         NaN         NaN      NaN              NaN    NaN   \n",
       "3         NaN         NaN         NaN      NaN              NaN    NaN   \n",
       "4         NaN         NaN         NaN      NaN              NaN    NaN   \n",
       "\n",
       "  total_cu_tl inq_last_12m  \n",
       "0         NaN          NaN  \n",
       "1         NaN          NaN  \n",
       "2         NaN          NaN  \n",
       "3         NaN          NaN  \n",
       "4         NaN          NaN  \n",
       "\n",
       "[5 rows x 75 columns]"
      ]
     },
     "execution_count": 6,
     "metadata": {},
     "output_type": "execute_result"
    }
   ],
   "source": [
    "df.head() #shows the first few rows of the pandas dataframe we created; allows you to see the variables. The opposite is tail. You can add a parameter that says how many it shows."
   ]
  },
  {
   "cell_type": "markdown",
   "metadata": {
    "_cell_guid": "c1496d6f-6bd2-4d6a-aaba-8a5b26b72f0a",
    "_uuid": "fb74047c78953d538e30078418bafaebca6a4389"
   },
   "source": [
    "### Checking Features With Little Variation or No Use"
   ]
  },
  {
   "cell_type": "markdown",
   "metadata": {},
   "source": [
    "A lot of these columns have NaN values, or have little variation. Neither of these will be super useful to us. Let us first look at the columns with little variation, NaN values, and then drop columns we do not need."
   ]
  },
  {
   "cell_type": "markdown",
   "metadata": {},
   "source": [
    "1) index\n",
    "2) policy_code\n",
    "3) pymnt_plan\n",
    "4) url\n",
    "5) id\n",
    "6) member_id\n",
    "7) application_type\n",
    "8) acc_now_delinq\n",
    "9) emp_title\n",
    "10) zip_code\n",
    "11) title"
   ]
  },
  {
   "cell_type": "markdown",
   "metadata": {},
   "source": [
    "Index is already built into the dataframe, so let us drop it."
   ]
  },
  {
   "cell_type": "markdown",
   "metadata": {},
   "source": [
    "#### Exploring Columns with Little Variation"
   ]
  },
  {
   "cell_type": "markdown",
   "metadata": {},
   "source": [
    "We will now use .groupby to group the dataframe by the specified columns above and sort each column by its values to showcase how much variation these columns have."
   ]
  },
  {
   "cell_type": "code",
   "execution_count": 7,
   "metadata": {},
   "outputs": [],
   "source": [
    "# Create a list of boolean values indicating whether or not a job was provided \n",
    "noJobListed = []\n",
    "\n",
    "# Loop through the entire dataframe to determine which fields contain \"None\"\n",
    "for counter in range(len(df)):\n",
    "    if((df.loc[counter, 'emp_title']) == df.loc[0, 'emp_title']): # Assign the True/False values accordingly\n",
    "        noJobListed.append('True')\n",
    "    else:\n",
    "        noJobListed.append('False')\n",
    "\n",
    "# The following code can be uncommented for debugging:        \n",
    "#for counting in noJobListed:\n",
    "#    print(counting)\n",
    "    \n",
    "#len(noJobListed)"
   ]
  },
  {
   "cell_type": "code",
   "execution_count": 8,
   "metadata": {},
   "outputs": [],
   "source": [
    "df['noJobProvided'] = noJobListed"
   ]
  },
  {
   "cell_type": "code",
   "execution_count": 9,
   "metadata": {},
   "outputs": [
    {
     "name": "stdout",
     "output_type": "stream",
     "text": [
      "index                                   int64\n",
      "id                                     object\n",
      "member_id                             float64\n",
      "loan_amnt                             float64\n",
      "funded_amnt                           float64\n",
      "funded_amnt_inv                       float64\n",
      "term                                   object\n",
      "int_rate                               object\n",
      "installment                           float64\n",
      "grade                                  object\n",
      "sub_grade                              object\n",
      "emp_title                              object\n",
      "emp_length                             object\n",
      "home_ownership                         object\n",
      "annual_inc                            float64\n",
      "verification_status                    object\n",
      "issue_d                        datetime64[ns]\n",
      "loan_status                            object\n",
      "pymnt_plan                             object\n",
      "url                                    object\n",
      "desc                                   object\n",
      "purpose                                object\n",
      "title                                  object\n",
      "zip_code                               object\n",
      "addr_state                             object\n",
      "dti                                   float64\n",
      "delinq_2yrs                           float64\n",
      "earliest_cr_line               datetime64[ns]\n",
      "inq_last_6mths                        float64\n",
      "mths_since_last_delinq                float64\n",
      "                                    ...      \n",
      "last_pymnt_d                   datetime64[ns]\n",
      "last_pymnt_amnt                       float64\n",
      "next_pymnt_d                   datetime64[ns]\n",
      "last_credit_pull_d             datetime64[ns]\n",
      "collections_12_mths_ex_med            float64\n",
      "mths_since_last_major_derog           float64\n",
      "policy_code                           float64\n",
      "application_type                       object\n",
      "annual_inc_joint                      float64\n",
      "dti_joint                             float64\n",
      "verification_status_joint              object\n",
      "acc_now_delinq                        float64\n",
      "tot_coll_amt                          float64\n",
      "tot_cur_bal                           float64\n",
      "open_acc_6m                           float64\n",
      "open_il_6m                            float64\n",
      "open_il_12m                           float64\n",
      "open_il_24m                           float64\n",
      "mths_since_rcnt_il                    float64\n",
      "total_bal_il                          float64\n",
      "il_util                               float64\n",
      "open_rv_12m                           float64\n",
      "open_rv_24m                           float64\n",
      "max_bal_bc                            float64\n",
      "all_util                              float64\n",
      "total_rev_hi_lim                      float64\n",
      "inq_fi                                float64\n",
      "total_cu_tl                           float64\n",
      "inq_last_12m                          float64\n",
      "noJobProvided                          object\n",
      "Length: 76, dtype: object\n"
     ]
    }
   ],
   "source": [
    "print(df.dtypes) # Debugging purposes"
   ]
  },
  {
   "cell_type": "code",
   "execution_count": 10,
   "metadata": {},
   "outputs": [
    {
     "name": "stdout",
     "output_type": "stream",
     "text": [
      "Used Auto Loan\n"
     ]
    }
   ],
   "source": [
    "print(df.loc[1234, 'title']) # Debugging purposes"
   ]
  },
  {
   "cell_type": "code",
   "execution_count": 11,
   "metadata": {},
   "outputs": [
    {
     "name": "stdout",
     "output_type": "stream",
     "text": [
      "True\n"
     ]
    }
   ],
   "source": [
    "print(df.loc[999, 'title'] == \"Credit Cards are Demons\") # Debugging purposes"
   ]
  },
  {
   "cell_type": "code",
   "execution_count": 12,
   "metadata": {},
   "outputs": [
    {
     "name": "stdout",
     "output_type": "stream",
     "text": [
      "10\n"
     ]
    }
   ],
   "source": [
    "print(str(df.loc[1234, 'title']).find(\"Loan\")) # Debugging purposes"
   ]
  },
  {
   "cell_type": "code",
   "execution_count": 13,
   "metadata": {},
   "outputs": [],
   "source": [
    "# Create a list of boolean values indicating whether or not the description seems risky based on key words\n",
    "riskyDescription = []\n",
    "\n",
    "# Loop through the entire dataframe to determine which fields contain \"risky\" words/phrases\n",
    "for counter in range(len(df)):\n",
    "    if((str(df.loc[counter, 'title'])).find(\"refinancing\") != -1):\n",
    "        riskyDescription.append('True')\n",
    "    elif((str(df.loc[counter, 'title'])).find(\"refinance\") != -1):\n",
    "        riskyDescription.append('True')\n",
    "    elif((str(df.loc[counter, 'title'])).find(\"credit card\") != -1):\n",
    "        riskyDescription.append('True')\n",
    "    elif((str(df.loc[counter, 'title'])).find(\"loan\") != -1):\n",
    "        riskyDescription.append('True')\n",
    "    elif((str(df.loc[counter, 'title'])).find(\"consolidat\") != -1): # Covers \"consolidation\" AND \"consolidate\"\n",
    "        riskyDescription.append('True')\n",
    "    elif((str(df.loc[counter, 'title'])).find(\"debt\") != -1):\n",
    "        riskyDescription.append('True')\n",
    "    elif((str(df.loc[counter, 'title'])).find(\"pay off\") != -1):\n",
    "        riskyDescription.append('True')\n",
    "    else:\n",
    "        riskyDescription.append('False')"
   ]
  },
  {
   "cell_type": "code",
   "execution_count": 14,
   "metadata": {},
   "outputs": [],
   "source": [
    "df['riskyDescr'] = riskyDescription # Assign it accordingly"
   ]
  },
  {
   "cell_type": "code",
   "execution_count": 15,
   "metadata": {},
   "outputs": [
    {
     "data": {
      "text/plain": [
       "policy_code\n",
       "1.0    887382\n",
       "dtype: int64"
      ]
     },
     "execution_count": 15,
     "metadata": {},
     "output_type": "execute_result"
    }
   ],
   "source": [
    "#get grouped data\n",
    "df.groupby('policy_code').size().sort_values()\n",
    "#.groupby is a pandas feature that will group the dataframe amongst groups designated by mappers or column names\n",
    "#in this case we want the policy_code data so we will group by inputting the column policy_code to get that data\n",
    "#.size() will compute the group size\n",
    "#.sort_values() will then sort the values\n",
    "#since all values are the same, we get the following: 1.0 value for POlicy_code amongst all 887382 rows"
   ]
  },
  {
   "cell_type": "code",
   "execution_count": 16,
   "metadata": {},
   "outputs": [
    {
     "data": {
      "text/plain": [
       "policy_code    0.0\n",
       "dtype: float64"
      ]
     },
     "execution_count": 16,
     "metadata": {},
     "output_type": "execute_result"
    }
   ],
   "source": [
    "#check for variation\n",
    "np.var(df.filter(regex='policy_code'))\n",
    "#np is numpy\n",
    "#.var is a numpy feature that will return the variance for the specified elements\n",
    "#df.filter serves to filter the data we want the variance on\n",
    "#regex stands for regular expression, which we are inputting as policy_code to specify this is the data we want variance on\n",
    "#note that variance only works when checking numbers (int/float), not strings"
   ]
  },
  {
   "cell_type": "markdown",
   "metadata": {},
   "source": [
    "An output of 0 means there is no variance, which makes sense as policy_code is always = 1.0."
   ]
  },
  {
   "cell_type": "code",
   "execution_count": 17,
   "metadata": {
    "scrolled": true
   },
   "outputs": [
    {
     "data": {
      "text/plain": [
       "pymnt_plan\n",
       "y        10\n",
       "n    887372\n",
       "dtype: int64"
      ]
     },
     "execution_count": 17,
     "metadata": {},
     "output_type": "execute_result"
    }
   ],
   "source": [
    "df.groupby('pymnt_plan').size().sort_values()"
   ]
  },
  {
   "cell_type": "code",
   "execution_count": 18,
   "metadata": {},
   "outputs": [
    {
     "name": "stdout",
     "output_type": "stream",
     "text": [
      "2\n"
     ]
    }
   ],
   "source": [
    "#Now we are going to try a loop to see if we can catch the number of unique values in this column\n",
    "#we do a loop instead of the above variance method as variance only works on numbers, and this column has string values of \"yes\" or \"no\"\n",
    "unique = [] #set an empty list\n",
    "for x in df.groupby('pymnt_plan').size().sort_values(): #create a for loop, saying that for each value in the payment plan column\n",
    "    if x not in unique: #for each of those values, if they are not in the unique list\n",
    "        unique.append(x) #append/add the value to the list\n",
    "print(len(unique)) #after the loop ends, print out the length of the unique list, which effectively gives us the number of unique values"
   ]
  },
  {
   "cell_type": "markdown",
   "metadata": {},
   "source": [
    "Only 2 different values. For pymnt_plan, only 10 rows take the value \"yes\", which means there is little useful variation. URL, ID doesn't seem to have any useful information."
   ]
  },
  {
   "cell_type": "code",
   "execution_count": 19,
   "metadata": {},
   "outputs": [
    {
     "data": {
      "text/plain": [
       "application_type\n",
       "JOINT            511\n",
       "INDIVIDUAL    886871\n",
       "dtype: int64"
      ]
     },
     "execution_count": 19,
     "metadata": {},
     "output_type": "execute_result"
    }
   ],
   "source": [
    "df.groupby('application_type').size().sort_values()"
   ]
  },
  {
   "cell_type": "markdown",
   "metadata": {},
   "source": [
    "A majority of the applications are indiviudal, with few joint. The little variation here does not help or contribute to our analysis, so this will also be removed. (Alternatively, we could separately analyze the data sets, or just analyze individual applications. Try this at home?)"
   ]
  },
  {
   "cell_type": "code",
   "execution_count": 20,
   "metadata": {},
   "outputs": [
    {
     "data": {
      "text/plain": [
       "acc_now_delinq\n",
       "6.0          1\n",
       "14.0         1\n",
       "5.0          3\n",
       "4.0          7\n",
       "3.0         28\n",
       "2.0        208\n",
       "1.0       3866\n",
       "0.0     883239\n",
       "dtype: int64"
      ]
     },
     "execution_count": 20,
     "metadata": {},
     "output_type": "execute_result"
    }
   ],
   "source": [
    "df.groupby('acc_now_delinq').size().sort_values() # for now, we don't use that variable, but perhaps we can use it in the future?"
   ]
  },
  {
   "cell_type": "code",
   "execution_count": 21,
   "metadata": {},
   "outputs": [
    {
     "data": {
      "text/plain": [
       "acc_now_delinq    0.006026\n",
       "dtype: float64"
      ]
     },
     "execution_count": 21,
     "metadata": {},
     "output_type": "execute_result"
    }
   ],
   "source": [
    "np.var(df.filter(regex='acc_now_delinq'))"
   ]
  },
  {
   "cell_type": "markdown",
   "metadata": {},
   "source": [
    "The variance is quite low, meaning that the values are close to each other. Also notice the majority of values are concentrated at 0.0"
   ]
  },
  {
   "cell_type": "code",
   "execution_count": 22,
   "metadata": {},
   "outputs": [
    {
     "data": {
      "text/plain": [
       "emp_title\n",
       " \\tAdv Mtr Proj Fld Rep                         1\n",
       "Risk Systems Analyst                            1\n",
       "Risk advisory supervisor                        1\n",
       "Risk analysis                                   1\n",
       "Risk and Control Analyst II                     1\n",
       "Risk and Safety Management                      1\n",
       "Risk consultant                                 1\n",
       "Risk control                                    1\n",
       "Risk coordinator                                1\n",
       "Risk director                                   1\n",
       "Risk enterprise management                      1\n",
       "Risk management advisor                         1\n",
       "Risk management assistant                       1\n",
       "Risk officer                                    1\n",
       "Risk System Analyst                             1\n",
       "Risk services manager                           1\n",
       "Risk/Control Officer                            1\n",
       "RiskMetrics Group                               1\n",
       "Risks and Controls Sr Analyst                   1\n",
       "Risnychok & Associates, Inc.                    1\n",
       "Rissman Barrett                                 1\n",
       "Rissman Barrett, P.A.                           1\n",
       "Rita M. Valenti, LLC                            1\n",
       "Ritatsu Manufacturing, Inc.                     1\n",
       "Ritchey's Dairy                                 1\n",
       "Ritchie Bros. Auctioneers                       1\n",
       "Ritchie Co. Schools                             1\n",
       "Ritchie and page distributing company ic        1\n",
       "Ritchie-Curbow Construction                     1\n",
       "Risk systems specialist                         1\n",
       "                                            ...  \n",
       "Analyst                                      1538\n",
       "Executive Assistant                          1603\n",
       "supervisor                                   1675\n",
       "Police Officer                               1720\n",
       "sales                                        1724\n",
       "Account Manager                              1725\n",
       "Sales Manager                                1846\n",
       "Administrative Assistant                     2019\n",
       "Accountant                                   2035\n",
       "Operations Manager                           2071\n",
       "Attorney                                     2136\n",
       "Vice President                               2352\n",
       "driver                                       2429\n",
       "President                                    2598\n",
       "Engineer                                     2671\n",
       "owner                                        2849\n",
       "teacher                                      2925\n",
       "manager                                      3138\n",
       "Director                                     3156\n",
       "General Manager                              3178\n",
       "Office Manager                               3510\n",
       "Driver                                       3569\n",
       "Project Manager                              3988\n",
       "Sales                                        4212\n",
       "Supervisor                                   4983\n",
       "RN                                           5355\n",
       "Owner                                        5376\n",
       "Registered Nurse                             5525\n",
       "Manager                                     11240\n",
       "Teacher                                     13469\n",
       "Length: 299272, dtype: int64"
      ]
     },
     "execution_count": 22,
     "metadata": {},
     "output_type": "execute_result"
    }
   ],
   "source": [
    "df.groupby('emp_title').size().sort_values() # for now, we don't use that variable, but perhaps we can use it in the future?"
   ]
  },
  {
   "cell_type": "code",
   "execution_count": 23,
   "metadata": {},
   "outputs": [
    {
     "name": "stdout",
     "output_type": "stream",
     "text": [
      "456\n"
     ]
    }
   ],
   "source": [
    "unique = []\n",
    "for x in df.groupby('emp_title').size().sort_values():\n",
    "    if x not in unique:\n",
    "        unique.append(x)\n",
    "print(len(unique))"
   ]
  },
  {
   "cell_type": "markdown",
   "metadata": {},
   "source": [
    "So there are a lot of different professions here. Perhaps we can use that later."
   ]
  },
  {
   "cell_type": "code",
   "execution_count": 24,
   "metadata": {},
   "outputs": [
    {
     "data": {
      "text/plain": [
       "zip_code\n",
       "649xx       1\n",
       "643xx       1\n",
       "862xx       1\n",
       "621xx       1\n",
       "817xx       1\n",
       "849xx       1\n",
       "819xx       1\n",
       "507xx       1\n",
       "509xx       1\n",
       "682xx       1\n",
       "511xx       1\n",
       "513xx       1\n",
       "514xx       1\n",
       "516xx       1\n",
       "520xx       1\n",
       "569xx       1\n",
       "568xx       1\n",
       "429xx       1\n",
       "524xx       1\n",
       "889xx       1\n",
       "694xx       1\n",
       "892xx       1\n",
       "399xx       1\n",
       "375xx       1\n",
       "901xx       1\n",
       "909xx       1\n",
       "742xx       1\n",
       "205xx       1\n",
       "938xx       1\n",
       "888xx       1\n",
       "         ... \n",
       "920xx    4303\n",
       "956xx    4329\n",
       "600xx    4518\n",
       "604xx    4527\n",
       "021xx    4532\n",
       "080xx    4539\n",
       "601xx    4603\n",
       "481xx    4645\n",
       "334xx    4744\n",
       "113xx    4813\n",
       "925xx    4907\n",
       "913xx    5161\n",
       "926xx    5415\n",
       "852xx    5442\n",
       "921xx    5661\n",
       "104xx    6008\n",
       "117xx    6129\n",
       "330xx    6283\n",
       "917xx    6357\n",
       "891xx    6441\n",
       "770xx    6938\n",
       "900xx    7287\n",
       "331xx    7416\n",
       "070xx    7431\n",
       "100xx    7609\n",
       "300xx    8126\n",
       "606xx    8641\n",
       "112xx    9272\n",
       "750xx    9417\n",
       "945xx    9770\n",
       "Length: 935, dtype: int64"
      ]
     },
     "execution_count": 24,
     "metadata": {},
     "output_type": "execute_result"
    }
   ],
   "source": [
    "df.groupby('zip_code').size().sort_values() # for now, we don't use that variable, but perhaps we can use it in the future?"
   ]
  },
  {
   "cell_type": "code",
   "execution_count": 25,
   "metadata": {},
   "outputs": [
    {
     "name": "stdout",
     "output_type": "stream",
     "text": [
      "695\n"
     ]
    }
   ],
   "source": [
    "unique = []\n",
    "for x in df.groupby('zip_code').size().sort_values():\n",
    "    if x not in unique:\n",
    "        unique.append(x)\n",
    "print(len(unique))"
   ]
  },
  {
   "cell_type": "code",
   "execution_count": null,
   "metadata": {},
   "outputs": [],
   "source": []
  },
  {
   "cell_type": "code",
   "execution_count": 26,
   "metadata": {},
   "outputs": [
    {
     "data": {
      "text/plain": [
       "title\n",
       "Ã®ÂÂÃ®ÂÂMY FIRST CAR Ã®ÂÂÃ®ÂÂ            1\n",
       "PB&J Wedding                                     1\n",
       "PCS Simplification                               1\n",
       "PEACE  OF  MIND                                  1\n",
       "lower rate for debt consolidation                1\n",
       "lower rate credit card payoff                    1\n",
       "lower rate 78                                    1\n",
       "PEACE of mind                                    1\n",
       "PEICE OF MIND                                    1\n",
       "PEPE LOAN                                        1\n",
       "PERFECTONE                                       1\n",
       "PAyoff                                           1\n",
       "PEROSNAL                                         1\n",
       "lower payments/debt                              1\n",
       "PERSONAL BILL CONSOLIDATE                        1\n",
       "PERSONAL BUSINESS                                1\n",
       "PERSONAL CONSOLIDATE                             1\n",
       "PERSONAL CONSOLIDATION                           1\n",
       "PERSONAL CREDIT                                  1\n",
       "PERSONAL DEBT CONSOLIDATION                      1\n",
       "PERSONAL DEBT LOAN                               1\n",
       "PERSONAL EXP                                     1\n",
       "PERSONAL EXPENSE                                 1\n",
       "lower rate  to save money                        1\n",
       "PAY_CREDIT_CARDS_OFF                             1\n",
       "PAYS OFF ALL DEBT-CLOSE ALL CC START NEW         1\n",
       "PAYROLL LOAN                                     1\n",
       "lower stress                                     1\n",
       "PAYOFF DEBTS                                     1\n",
       "PAYOFF EARLY                                     1\n",
       "                                             ...  \n",
       "personal loan                                  744\n",
       "consolidate                                    763\n",
       "personal                                       774\n",
       "Credit Card Loan                               783\n",
       "Freedom                                        801\n",
       "Loan                                          1033\n",
       "Personal                                      1185\n",
       "Consolidate                                   1268\n",
       "Credit Card Payoff                            1386\n",
       "Credit Card Refinance                         1467\n",
       "Home Improvement                              1772\n",
       "Consolidation Loan                            1778\n",
       "Personal Loan                                 2133\n",
       "consolidation                                 2174\n",
       "Credit Card Consolidation                     2359\n",
       "Home buying                                   2365\n",
       "Debt Consolidation Loan                       3804\n",
       "Vacation                                      3805\n",
       "Moving and relocation                         3921\n",
       "debt consolidation                            4834\n",
       "Consolidation                                 5381\n",
       "Car financing                                 5565\n",
       "Medical expenses                              6674\n",
       "Business                                      6728\n",
       "Major purchase                               12051\n",
       "Debt Consolidation                           15760\n",
       "Other                                        31892\n",
       "Home improvement                             40113\n",
       "Credit card refinancing                     164332\n",
       "Debt consolidation                          414002\n",
       "Length: 63145, dtype: int64"
      ]
     },
     "execution_count": 26,
     "metadata": {},
     "output_type": "execute_result"
    }
   ],
   "source": [
    "df.groupby('title').size().sort_values() #You could try and check whether people who know how to spell English words are less likely to default"
   ]
  },
  {
   "cell_type": "code",
   "execution_count": 27,
   "metadata": {},
   "outputs": [
    {
     "name": "stdout",
     "output_type": "stream",
     "text": [
      "238\n"
     ]
    }
   ],
   "source": [
    "unique = []\n",
    "for x in df.groupby('title').size().sort_values():\n",
    "    if x not in unique:\n",
    "        unique.append(x)\n",
    "print(len(unique))"
   ]
  },
  {
   "cell_type": "markdown",
   "metadata": {
    "_cell_guid": "cce27f3e-d0d5-4895-9b9a-be773e9e2597",
    "_uuid": "88d40660588ccd67a071a344b596be1f603cf611"
   },
   "source": [
    "Now that we have gone through the data for the above columns, we can now delete them and columns lacking value:"
   ]
  },
  {
   "cell_type": "code",
   "execution_count": 28,
   "metadata": {
    "_cell_guid": "516a4d89-cc9c-491c-a648-395b4431e357",
    "_uuid": "f63cde4bfc3ec221d47295f3a22cf9011c75fd36"
   },
   "outputs": [],
   "source": [
    "#df.dropna(axis = 1, how = 'all') #vertical concatenation, ensure only dropping columns who have ALL NaN values\n"
   ]
  },
  {
   "cell_type": "markdown",
   "metadata": {},
   "source": [
    "To check this worked, let us list the columns now"
   ]
  },
  {
   "cell_type": "code",
   "execution_count": 29,
   "metadata": {
    "_cell_guid": "dc6e7bb5-c764-4a49-95a8-a618cf07010c",
    "_uuid": "05a417b294eab7e91f0677625be7ddd867314d2d",
    "scrolled": true
   },
   "outputs": [
    {
     "data": {
      "text/plain": [
       "Index(['index', 'id', 'member_id', 'loan_amnt', 'funded_amnt',\n",
       "       'funded_amnt_inv', 'term', 'int_rate', 'installment', 'grade',\n",
       "       'sub_grade', 'emp_title', 'emp_length', 'home_ownership', 'annual_inc',\n",
       "       'verification_status', 'issue_d', 'loan_status', 'pymnt_plan', 'url',\n",
       "       'desc', 'purpose', 'title', 'zip_code', 'addr_state', 'dti',\n",
       "       'delinq_2yrs', 'earliest_cr_line', 'inq_last_6mths',\n",
       "       'mths_since_last_delinq', 'mths_since_last_record', 'open_acc',\n",
       "       'pub_rec', 'revol_bal', 'revol_util', 'total_acc',\n",
       "       'initial_list_status', 'out_prncp', 'out_prncp_inv', 'total_pymnt',\n",
       "       'total_pymnt_inv', 'total_rec_prncp', 'total_rec_int',\n",
       "       'total_rec_late_fee', 'recoveries', 'collection_recovery_fee',\n",
       "       'last_pymnt_d', 'last_pymnt_amnt', 'next_pymnt_d', 'last_credit_pull_d',\n",
       "       'collections_12_mths_ex_med', 'mths_since_last_major_derog',\n",
       "       'policy_code', 'application_type', 'annual_inc_joint', 'dti_joint',\n",
       "       'verification_status_joint', 'acc_now_delinq', 'tot_coll_amt',\n",
       "       'tot_cur_bal', 'open_acc_6m', 'open_il_6m', 'open_il_12m',\n",
       "       'open_il_24m', 'mths_since_rcnt_il', 'total_bal_il', 'il_util',\n",
       "       'open_rv_12m', 'open_rv_24m', 'max_bal_bc', 'all_util',\n",
       "       'total_rev_hi_lim', 'inq_fi', 'total_cu_tl', 'inq_last_12m',\n",
       "       'noJobProvided', 'riskyDescr'],\n",
       "      dtype='object')"
      ]
     },
     "execution_count": 29,
     "metadata": {},
     "output_type": "execute_result"
    }
   ],
   "source": [
    "df.columns        "
   ]
  },
  {
   "cell_type": "markdown",
   "metadata": {},
   "source": [
    "Now to specifically remove columns we just checked with little variation or data that does not apply to us right now. "
   ]
  },
  {
   "cell_type": "code",
   "execution_count": 30,
   "metadata": {},
   "outputs": [],
   "source": [
    "delete_me = ['index', 'policy_code', 'pymnt_plan', 'url', 'id', 'member_id', \n",
    "             'application_type', 'acc_now_delinq','emp_title', 'zip_code']\n",
    "#created a list of columns we want to delete\n",
    "df.drop(delete_me , axis=1, inplace=True) \n",
    "#using the drop feature in pandas to drop the specified items in delete me, through a vertical concatenation to make sure we are specifying we want to delete columns\n",
    "#inplace = True means that the data is renamed in place (it returns nothing), instead of creating a copy, which would happen if inplace = False"
   ]
  },
  {
   "cell_type": "markdown",
   "metadata": {},
   "source": [
    "Let's check the columns again!"
   ]
  },
  {
   "cell_type": "code",
   "execution_count": 31,
   "metadata": {},
   "outputs": [
    {
     "data": {
      "text/plain": [
       "Index(['loan_amnt', 'funded_amnt', 'funded_amnt_inv', 'term', 'int_rate',\n",
       "       'installment', 'grade', 'sub_grade', 'emp_length', 'home_ownership',\n",
       "       'annual_inc', 'verification_status', 'issue_d', 'loan_status', 'desc',\n",
       "       'purpose', 'title', 'addr_state', 'dti', 'delinq_2yrs',\n",
       "       'earliest_cr_line', 'inq_last_6mths', 'mths_since_last_delinq',\n",
       "       'mths_since_last_record', 'open_acc', 'pub_rec', 'revol_bal',\n",
       "       'revol_util', 'total_acc', 'initial_list_status', 'out_prncp',\n",
       "       'out_prncp_inv', 'total_pymnt', 'total_pymnt_inv', 'total_rec_prncp',\n",
       "       'total_rec_int', 'total_rec_late_fee', 'recoveries',\n",
       "       'collection_recovery_fee', 'last_pymnt_d', 'last_pymnt_amnt',\n",
       "       'next_pymnt_d', 'last_credit_pull_d', 'collections_12_mths_ex_med',\n",
       "       'mths_since_last_major_derog', 'annual_inc_joint', 'dti_joint',\n",
       "       'verification_status_joint', 'tot_coll_amt', 'tot_cur_bal',\n",
       "       'open_acc_6m', 'open_il_6m', 'open_il_12m', 'open_il_24m',\n",
       "       'mths_since_rcnt_il', 'total_bal_il', 'il_util', 'open_rv_12m',\n",
       "       'open_rv_24m', 'max_bal_bc', 'all_util', 'total_rev_hi_lim', 'inq_fi',\n",
       "       'total_cu_tl', 'inq_last_12m', 'noJobProvided', 'riskyDescr'],\n",
       "      dtype='object')"
      ]
     },
     "execution_count": 31,
     "metadata": {},
     "output_type": "execute_result"
    }
   ],
   "source": [
    "df.columns #load columns"
   ]
  },
  {
   "cell_type": "markdown",
   "metadata": {},
   "source": [
    "Excellent! Now, let's check the basic stats for each column."
   ]
  },
  {
   "cell_type": "code",
   "execution_count": 32,
   "metadata": {},
   "outputs": [
    {
     "data": {
      "text/html": [
       "<div>\n",
       "<style scoped>\n",
       "    .dataframe tbody tr th:only-of-type {\n",
       "        vertical-align: middle;\n",
       "    }\n",
       "\n",
       "    .dataframe tbody tr th {\n",
       "        vertical-align: top;\n",
       "    }\n",
       "\n",
       "    .dataframe thead th {\n",
       "        text-align: right;\n",
       "    }\n",
       "</style>\n",
       "<table border=\"1\" class=\"dataframe\">\n",
       "  <thead>\n",
       "    <tr style=\"text-align: right;\">\n",
       "      <th></th>\n",
       "      <th>loan_amnt</th>\n",
       "      <th>funded_amnt</th>\n",
       "      <th>funded_amnt_inv</th>\n",
       "      <th>installment</th>\n",
       "      <th>annual_inc</th>\n",
       "      <th>dti</th>\n",
       "      <th>delinq_2yrs</th>\n",
       "      <th>inq_last_6mths</th>\n",
       "      <th>mths_since_last_delinq</th>\n",
       "      <th>mths_since_last_record</th>\n",
       "      <th>...</th>\n",
       "      <th>total_bal_il</th>\n",
       "      <th>il_util</th>\n",
       "      <th>open_rv_12m</th>\n",
       "      <th>open_rv_24m</th>\n",
       "      <th>max_bal_bc</th>\n",
       "      <th>all_util</th>\n",
       "      <th>total_rev_hi_lim</th>\n",
       "      <th>inq_fi</th>\n",
       "      <th>total_cu_tl</th>\n",
       "      <th>inq_last_12m</th>\n",
       "    </tr>\n",
       "  </thead>\n",
       "  <tbody>\n",
       "    <tr>\n",
       "      <th>count</th>\n",
       "      <td>887382.000000</td>\n",
       "      <td>887382.000000</td>\n",
       "      <td>887382.000000</td>\n",
       "      <td>887382.000000</td>\n",
       "      <td>8.873780e+05</td>\n",
       "      <td>887382.00000</td>\n",
       "      <td>887353.000000</td>\n",
       "      <td>887353.000000</td>\n",
       "      <td>433069.000000</td>\n",
       "      <td>137053.000000</td>\n",
       "      <td>...</td>\n",
       "      <td>21372.000000</td>\n",
       "      <td>18617.000000</td>\n",
       "      <td>21372.000000</td>\n",
       "      <td>21372.000000</td>\n",
       "      <td>21372.000000</td>\n",
       "      <td>21372.000000</td>\n",
       "      <td>8.171060e+05</td>\n",
       "      <td>21372.000000</td>\n",
       "      <td>21372.000000</td>\n",
       "      <td>21372.000000</td>\n",
       "    </tr>\n",
       "    <tr>\n",
       "      <th>mean</th>\n",
       "      <td>14755.280082</td>\n",
       "      <td>14741.893147</td>\n",
       "      <td>14702.480039</td>\n",
       "      <td>436.717647</td>\n",
       "      <td>7.502761e+04</td>\n",
       "      <td>18.15702</td>\n",
       "      <td>0.314445</td>\n",
       "      <td>0.694622</td>\n",
       "      <td>34.063697</td>\n",
       "      <td>70.117903</td>\n",
       "      <td>...</td>\n",
       "      <td>36552.811389</td>\n",
       "      <td>71.535317</td>\n",
       "      <td>1.389060</td>\n",
       "      <td>2.975482</td>\n",
       "      <td>5887.979740</td>\n",
       "      <td>60.831939</td>\n",
       "      <td>3.206868e+04</td>\n",
       "      <td>0.943945</td>\n",
       "      <td>1.537058</td>\n",
       "      <td>1.977307</td>\n",
       "    </tr>\n",
       "    <tr>\n",
       "      <th>std</th>\n",
       "      <td>8435.456408</td>\n",
       "      <td>8429.898507</td>\n",
       "      <td>8442.107612</td>\n",
       "      <td>244.186619</td>\n",
       "      <td>6.469823e+04</td>\n",
       "      <td>17.19060</td>\n",
       "      <td>0.862247</td>\n",
       "      <td>0.998447</td>\n",
       "      <td>21.884941</td>\n",
       "      <td>28.127914</td>\n",
       "      <td>...</td>\n",
       "      <td>43103.833619</td>\n",
       "      <td>23.022862</td>\n",
       "      <td>1.520129</td>\n",
       "      <td>2.631886</td>\n",
       "      <td>5284.701239</td>\n",
       "      <td>20.013254</td>\n",
       "      <td>3.749833e+04</td>\n",
       "      <td>1.446872</td>\n",
       "      <td>2.723339</td>\n",
       "      <td>2.874067</td>\n",
       "    </tr>\n",
       "    <tr>\n",
       "      <th>min</th>\n",
       "      <td>500.000000</td>\n",
       "      <td>500.000000</td>\n",
       "      <td>0.000000</td>\n",
       "      <td>15.670000</td>\n",
       "      <td>0.000000e+00</td>\n",
       "      <td>0.00000</td>\n",
       "      <td>0.000000</td>\n",
       "      <td>0.000000</td>\n",
       "      <td>0.000000</td>\n",
       "      <td>0.000000</td>\n",
       "      <td>...</td>\n",
       "      <td>0.000000</td>\n",
       "      <td>0.000000</td>\n",
       "      <td>0.000000</td>\n",
       "      <td>0.000000</td>\n",
       "      <td>0.000000</td>\n",
       "      <td>0.000000</td>\n",
       "      <td>0.000000e+00</td>\n",
       "      <td>0.000000</td>\n",
       "      <td>0.000000</td>\n",
       "      <td>-4.000000</td>\n",
       "    </tr>\n",
       "    <tr>\n",
       "      <th>25%</th>\n",
       "      <td>8000.000000</td>\n",
       "      <td>8000.000000</td>\n",
       "      <td>8000.000000</td>\n",
       "      <td>260.710000</td>\n",
       "      <td>4.500000e+04</td>\n",
       "      <td>11.91000</td>\n",
       "      <td>0.000000</td>\n",
       "      <td>0.000000</td>\n",
       "      <td>15.000000</td>\n",
       "      <td>51.000000</td>\n",
       "      <td>...</td>\n",
       "      <td>10251.500000</td>\n",
       "      <td>58.600000</td>\n",
       "      <td>0.000000</td>\n",
       "      <td>1.000000</td>\n",
       "      <td>2411.000000</td>\n",
       "      <td>47.700000</td>\n",
       "      <td>1.390000e+04</td>\n",
       "      <td>0.000000</td>\n",
       "      <td>0.000000</td>\n",
       "      <td>0.000000</td>\n",
       "    </tr>\n",
       "    <tr>\n",
       "      <th>50%</th>\n",
       "      <td>13000.000000</td>\n",
       "      <td>13000.000000</td>\n",
       "      <td>13000.000000</td>\n",
       "      <td>382.550000</td>\n",
       "      <td>6.500000e+04</td>\n",
       "      <td>17.65000</td>\n",
       "      <td>0.000000</td>\n",
       "      <td>0.000000</td>\n",
       "      <td>31.000000</td>\n",
       "      <td>70.000000</td>\n",
       "      <td>...</td>\n",
       "      <td>24684.500000</td>\n",
       "      <td>74.900000</td>\n",
       "      <td>1.000000</td>\n",
       "      <td>2.000000</td>\n",
       "      <td>4483.000000</td>\n",
       "      <td>61.900000</td>\n",
       "      <td>2.370000e+04</td>\n",
       "      <td>0.000000</td>\n",
       "      <td>0.000000</td>\n",
       "      <td>2.000000</td>\n",
       "    </tr>\n",
       "    <tr>\n",
       "      <th>75%</th>\n",
       "      <td>20000.000000</td>\n",
       "      <td>20000.000000</td>\n",
       "      <td>20000.000000</td>\n",
       "      <td>572.600000</td>\n",
       "      <td>9.000000e+04</td>\n",
       "      <td>23.95000</td>\n",
       "      <td>0.000000</td>\n",
       "      <td>1.000000</td>\n",
       "      <td>50.000000</td>\n",
       "      <td>92.000000</td>\n",
       "      <td>...</td>\n",
       "      <td>47858.000000</td>\n",
       "      <td>87.600000</td>\n",
       "      <td>2.000000</td>\n",
       "      <td>4.000000</td>\n",
       "      <td>7771.500000</td>\n",
       "      <td>75.200000</td>\n",
       "      <td>3.980000e+04</td>\n",
       "      <td>1.000000</td>\n",
       "      <td>2.000000</td>\n",
       "      <td>3.000000</td>\n",
       "    </tr>\n",
       "    <tr>\n",
       "      <th>max</th>\n",
       "      <td>35000.000000</td>\n",
       "      <td>35000.000000</td>\n",
       "      <td>35000.000000</td>\n",
       "      <td>1445.460000</td>\n",
       "      <td>9.500000e+06</td>\n",
       "      <td>9999.00000</td>\n",
       "      <td>39.000000</td>\n",
       "      <td>33.000000</td>\n",
       "      <td>188.000000</td>\n",
       "      <td>129.000000</td>\n",
       "      <td>...</td>\n",
       "      <td>878459.000000</td>\n",
       "      <td>223.300000</td>\n",
       "      <td>22.000000</td>\n",
       "      <td>43.000000</td>\n",
       "      <td>127305.000000</td>\n",
       "      <td>151.400000</td>\n",
       "      <td>9.999999e+06</td>\n",
       "      <td>17.000000</td>\n",
       "      <td>35.000000</td>\n",
       "      <td>32.000000</td>\n",
       "    </tr>\n",
       "  </tbody>\n",
       "</table>\n",
       "<p>8 rows × 45 columns</p>\n",
       "</div>"
      ],
      "text/plain": [
       "           loan_amnt    funded_amnt  funded_amnt_inv    installment  \\\n",
       "count  887382.000000  887382.000000    887382.000000  887382.000000   \n",
       "mean    14755.280082   14741.893147     14702.480039     436.717647   \n",
       "std      8435.456408    8429.898507      8442.107612     244.186619   \n",
       "min       500.000000     500.000000         0.000000      15.670000   \n",
       "25%      8000.000000    8000.000000      8000.000000     260.710000   \n",
       "50%     13000.000000   13000.000000     13000.000000     382.550000   \n",
       "75%     20000.000000   20000.000000     20000.000000     572.600000   \n",
       "max     35000.000000   35000.000000     35000.000000    1445.460000   \n",
       "\n",
       "         annual_inc           dti    delinq_2yrs  inq_last_6mths  \\\n",
       "count  8.873780e+05  887382.00000  887353.000000   887353.000000   \n",
       "mean   7.502761e+04      18.15702       0.314445        0.694622   \n",
       "std    6.469823e+04      17.19060       0.862247        0.998447   \n",
       "min    0.000000e+00       0.00000       0.000000        0.000000   \n",
       "25%    4.500000e+04      11.91000       0.000000        0.000000   \n",
       "50%    6.500000e+04      17.65000       0.000000        0.000000   \n",
       "75%    9.000000e+04      23.95000       0.000000        1.000000   \n",
       "max    9.500000e+06    9999.00000      39.000000       33.000000   \n",
       "\n",
       "       mths_since_last_delinq  mths_since_last_record      ...       \\\n",
       "count           433069.000000           137053.000000      ...        \n",
       "mean                34.063697               70.117903      ...        \n",
       "std                 21.884941               28.127914      ...        \n",
       "min                  0.000000                0.000000      ...        \n",
       "25%                 15.000000               51.000000      ...        \n",
       "50%                 31.000000               70.000000      ...        \n",
       "75%                 50.000000               92.000000      ...        \n",
       "max                188.000000              129.000000      ...        \n",
       "\n",
       "        total_bal_il       il_util   open_rv_12m   open_rv_24m     max_bal_bc  \\\n",
       "count   21372.000000  18617.000000  21372.000000  21372.000000   21372.000000   \n",
       "mean    36552.811389     71.535317      1.389060      2.975482    5887.979740   \n",
       "std     43103.833619     23.022862      1.520129      2.631886    5284.701239   \n",
       "min         0.000000      0.000000      0.000000      0.000000       0.000000   \n",
       "25%     10251.500000     58.600000      0.000000      1.000000    2411.000000   \n",
       "50%     24684.500000     74.900000      1.000000      2.000000    4483.000000   \n",
       "75%     47858.000000     87.600000      2.000000      4.000000    7771.500000   \n",
       "max    878459.000000    223.300000     22.000000     43.000000  127305.000000   \n",
       "\n",
       "           all_util  total_rev_hi_lim        inq_fi   total_cu_tl  \\\n",
       "count  21372.000000      8.171060e+05  21372.000000  21372.000000   \n",
       "mean      60.831939      3.206868e+04      0.943945      1.537058   \n",
       "std       20.013254      3.749833e+04      1.446872      2.723339   \n",
       "min        0.000000      0.000000e+00      0.000000      0.000000   \n",
       "25%       47.700000      1.390000e+04      0.000000      0.000000   \n",
       "50%       61.900000      2.370000e+04      0.000000      0.000000   \n",
       "75%       75.200000      3.980000e+04      1.000000      2.000000   \n",
       "max      151.400000      9.999999e+06     17.000000     35.000000   \n",
       "\n",
       "       inq_last_12m  \n",
       "count  21372.000000  \n",
       "mean       1.977307  \n",
       "std        2.874067  \n",
       "min       -4.000000  \n",
       "25%        0.000000  \n",
       "50%        2.000000  \n",
       "75%        3.000000  \n",
       "max       32.000000  \n",
       "\n",
       "[8 rows x 45 columns]"
      ]
     },
     "execution_count": 32,
     "metadata": {},
     "output_type": "execute_result"
    }
   ],
   "source": [
    "df.describe() #get basic stats of each column in table now"
   ]
  },
  {
   "cell_type": "markdown",
   "metadata": {},
   "source": [
    "Now, let's check the type of each column."
   ]
  },
  {
   "cell_type": "code",
   "execution_count": 33,
   "metadata": {},
   "outputs": [
    {
     "data": {
      "text/plain": [
       "loan_amnt                             float64\n",
       "funded_amnt                           float64\n",
       "funded_amnt_inv                       float64\n",
       "term                                   object\n",
       "int_rate                               object\n",
       "installment                           float64\n",
       "grade                                  object\n",
       "sub_grade                              object\n",
       "emp_length                             object\n",
       "home_ownership                         object\n",
       "annual_inc                            float64\n",
       "verification_status                    object\n",
       "issue_d                        datetime64[ns]\n",
       "loan_status                            object\n",
       "desc                                   object\n",
       "purpose                                object\n",
       "title                                  object\n",
       "addr_state                             object\n",
       "dti                                   float64\n",
       "delinq_2yrs                           float64\n",
       "earliest_cr_line               datetime64[ns]\n",
       "inq_last_6mths                        float64\n",
       "mths_since_last_delinq                float64\n",
       "mths_since_last_record                float64\n",
       "open_acc                              float64\n",
       "pub_rec                               float64\n",
       "revol_bal                             float64\n",
       "revol_util                             object\n",
       "total_acc                             float64\n",
       "initial_list_status                    object\n",
       "                                    ...      \n",
       "recoveries                            float64\n",
       "collection_recovery_fee               float64\n",
       "last_pymnt_d                   datetime64[ns]\n",
       "last_pymnt_amnt                       float64\n",
       "next_pymnt_d                   datetime64[ns]\n",
       "last_credit_pull_d             datetime64[ns]\n",
       "collections_12_mths_ex_med            float64\n",
       "mths_since_last_major_derog           float64\n",
       "annual_inc_joint                      float64\n",
       "dti_joint                             float64\n",
       "verification_status_joint              object\n",
       "tot_coll_amt                          float64\n",
       "tot_cur_bal                           float64\n",
       "open_acc_6m                           float64\n",
       "open_il_6m                            float64\n",
       "open_il_12m                           float64\n",
       "open_il_24m                           float64\n",
       "mths_since_rcnt_il                    float64\n",
       "total_bal_il                          float64\n",
       "il_util                               float64\n",
       "open_rv_12m                           float64\n",
       "open_rv_24m                           float64\n",
       "max_bal_bc                            float64\n",
       "all_util                              float64\n",
       "total_rev_hi_lim                      float64\n",
       "inq_fi                                float64\n",
       "total_cu_tl                           float64\n",
       "inq_last_12m                          float64\n",
       "noJobProvided                          object\n",
       "riskyDescr                             object\n",
       "Length: 67, dtype: object"
      ]
     },
     "execution_count": 33,
     "metadata": {},
     "output_type": "execute_result"
    }
   ],
   "source": [
    "df.dtypes #check types"
   ]
  },
  {
   "cell_type": "markdown",
   "metadata": {},
   "source": [
    "As we can see, there are a variety of data types. Let's clean that up and convert specifcally the datetime64[ns] type into something we can better use."
   ]
  },
  {
   "cell_type": "markdown",
   "metadata": {
    "_cell_guid": "925e8374-1c79-4f0a-b9cf-e70c94a95b8c",
    "_uuid": "eb10242aede23497f406c224fce4033d19e9fcf8",
    "scrolled": true
   },
   "source": [
    "## Feature transformations"
   ]
  },
  {
   "cell_type": "markdown",
   "metadata": {
    "_cell_guid": "88885c35-f12e-4b86-a157-97e822b5b2c9",
    "_uuid": "21edecc4d8e90408fc308c1447828389fd7f52a2"
   },
   "source": [
    "\n",
    "We need to transform a few metrics which sound very important, but are formatted as strings. These transformations are performed with the data modelling in mind. Ultimatelly we want to produce a dataset almost ready to be fed to the model. Here is a summary of the operations performed:\n",
    "\n",
    "1) Strip months from term and make it an integer\n",
    "2) The Interest rate is a string. Remove % and make it a float\n",
    "3) Extract numbers from emp_length and fill missing values with the median. If emp_length == 10+ years then leave it as 10\n",
    "4) Transform datetimes to a Period (class in Pandas)"
   ]
  },
  {
   "cell_type": "code",
   "execution_count": 34,
   "metadata": {},
   "outputs": [
    {
     "data": {
      "text/html": [
       "<div>\n",
       "<style scoped>\n",
       "    .dataframe tbody tr th:only-of-type {\n",
       "        vertical-align: middle;\n",
       "    }\n",
       "\n",
       "    .dataframe tbody tr th {\n",
       "        vertical-align: top;\n",
       "    }\n",
       "\n",
       "    .dataframe thead th {\n",
       "        text-align: right;\n",
       "    }\n",
       "</style>\n",
       "<table border=\"1\" class=\"dataframe\">\n",
       "  <thead>\n",
       "    <tr style=\"text-align: right;\">\n",
       "      <th></th>\n",
       "      <th>loan_amnt</th>\n",
       "      <th>funded_amnt</th>\n",
       "      <th>funded_amnt_inv</th>\n",
       "      <th>term</th>\n",
       "      <th>int_rate</th>\n",
       "      <th>installment</th>\n",
       "      <th>grade</th>\n",
       "      <th>sub_grade</th>\n",
       "      <th>emp_length</th>\n",
       "      <th>home_ownership</th>\n",
       "      <th>...</th>\n",
       "      <th>open_rv_12m</th>\n",
       "      <th>open_rv_24m</th>\n",
       "      <th>max_bal_bc</th>\n",
       "      <th>all_util</th>\n",
       "      <th>total_rev_hi_lim</th>\n",
       "      <th>inq_fi</th>\n",
       "      <th>total_cu_tl</th>\n",
       "      <th>inq_last_12m</th>\n",
       "      <th>noJobProvided</th>\n",
       "      <th>riskyDescr</th>\n",
       "    </tr>\n",
       "  </thead>\n",
       "  <tbody>\n",
       "    <tr>\n",
       "      <th>0</th>\n",
       "      <td>5000.0</td>\n",
       "      <td>5000.0</td>\n",
       "      <td>4975.0</td>\n",
       "      <td>36 months</td>\n",
       "      <td>10.65%</td>\n",
       "      <td>162.87</td>\n",
       "      <td>B</td>\n",
       "      <td>B2</td>\n",
       "      <td>10+ years</td>\n",
       "      <td>RENT</td>\n",
       "      <td>...</td>\n",
       "      <td>NaN</td>\n",
       "      <td>NaN</td>\n",
       "      <td>NaN</td>\n",
       "      <td>NaN</td>\n",
       "      <td>NaN</td>\n",
       "      <td>NaN</td>\n",
       "      <td>NaN</td>\n",
       "      <td>NaN</td>\n",
       "      <td>True</td>\n",
       "      <td>False</td>\n",
       "    </tr>\n",
       "    <tr>\n",
       "      <th>1</th>\n",
       "      <td>2500.0</td>\n",
       "      <td>2500.0</td>\n",
       "      <td>2500.0</td>\n",
       "      <td>60 months</td>\n",
       "      <td>15.27%</td>\n",
       "      <td>59.83</td>\n",
       "      <td>C</td>\n",
       "      <td>C4</td>\n",
       "      <td>&lt; 1 year</td>\n",
       "      <td>RENT</td>\n",
       "      <td>...</td>\n",
       "      <td>NaN</td>\n",
       "      <td>NaN</td>\n",
       "      <td>NaN</td>\n",
       "      <td>NaN</td>\n",
       "      <td>NaN</td>\n",
       "      <td>NaN</td>\n",
       "      <td>NaN</td>\n",
       "      <td>NaN</td>\n",
       "      <td>False</td>\n",
       "      <td>False</td>\n",
       "    </tr>\n",
       "    <tr>\n",
       "      <th>2</th>\n",
       "      <td>2400.0</td>\n",
       "      <td>2400.0</td>\n",
       "      <td>2400.0</td>\n",
       "      <td>36 months</td>\n",
       "      <td>15.96%</td>\n",
       "      <td>84.33</td>\n",
       "      <td>C</td>\n",
       "      <td>C5</td>\n",
       "      <td>10+ years</td>\n",
       "      <td>RENT</td>\n",
       "      <td>...</td>\n",
       "      <td>NaN</td>\n",
       "      <td>NaN</td>\n",
       "      <td>NaN</td>\n",
       "      <td>NaN</td>\n",
       "      <td>NaN</td>\n",
       "      <td>NaN</td>\n",
       "      <td>NaN</td>\n",
       "      <td>NaN</td>\n",
       "      <td>True</td>\n",
       "      <td>False</td>\n",
       "    </tr>\n",
       "    <tr>\n",
       "      <th>3</th>\n",
       "      <td>10000.0</td>\n",
       "      <td>10000.0</td>\n",
       "      <td>10000.0</td>\n",
       "      <td>36 months</td>\n",
       "      <td>13.49%</td>\n",
       "      <td>339.31</td>\n",
       "      <td>C</td>\n",
       "      <td>C1</td>\n",
       "      <td>10+ years</td>\n",
       "      <td>RENT</td>\n",
       "      <td>...</td>\n",
       "      <td>NaN</td>\n",
       "      <td>NaN</td>\n",
       "      <td>NaN</td>\n",
       "      <td>NaN</td>\n",
       "      <td>NaN</td>\n",
       "      <td>NaN</td>\n",
       "      <td>NaN</td>\n",
       "      <td>NaN</td>\n",
       "      <td>False</td>\n",
       "      <td>False</td>\n",
       "    </tr>\n",
       "    <tr>\n",
       "      <th>4</th>\n",
       "      <td>3000.0</td>\n",
       "      <td>3000.0</td>\n",
       "      <td>3000.0</td>\n",
       "      <td>60 months</td>\n",
       "      <td>12.69%</td>\n",
       "      <td>67.79</td>\n",
       "      <td>B</td>\n",
       "      <td>B5</td>\n",
       "      <td>1 year</td>\n",
       "      <td>RENT</td>\n",
       "      <td>...</td>\n",
       "      <td>NaN</td>\n",
       "      <td>NaN</td>\n",
       "      <td>NaN</td>\n",
       "      <td>NaN</td>\n",
       "      <td>NaN</td>\n",
       "      <td>NaN</td>\n",
       "      <td>NaN</td>\n",
       "      <td>NaN</td>\n",
       "      <td>False</td>\n",
       "      <td>False</td>\n",
       "    </tr>\n",
       "  </tbody>\n",
       "</table>\n",
       "<p>5 rows × 67 columns</p>\n",
       "</div>"
      ],
      "text/plain": [
       "   loan_amnt  funded_amnt  funded_amnt_inv        term int_rate  installment  \\\n",
       "0     5000.0       5000.0           4975.0   36 months   10.65%       162.87   \n",
       "1     2500.0       2500.0           2500.0   60 months   15.27%        59.83   \n",
       "2     2400.0       2400.0           2400.0   36 months   15.96%        84.33   \n",
       "3    10000.0      10000.0          10000.0   36 months   13.49%       339.31   \n",
       "4     3000.0       3000.0           3000.0   60 months   12.69%        67.79   \n",
       "\n",
       "  grade sub_grade emp_length home_ownership     ...      open_rv_12m  \\\n",
       "0     B        B2  10+ years           RENT     ...              NaN   \n",
       "1     C        C4   < 1 year           RENT     ...              NaN   \n",
       "2     C        C5  10+ years           RENT     ...              NaN   \n",
       "3     C        C1  10+ years           RENT     ...              NaN   \n",
       "4     B        B5     1 year           RENT     ...              NaN   \n",
       "\n",
       "  open_rv_24m max_bal_bc all_util total_rev_hi_lim inq_fi total_cu_tl  \\\n",
       "0         NaN        NaN      NaN              NaN    NaN         NaN   \n",
       "1         NaN        NaN      NaN              NaN    NaN         NaN   \n",
       "2         NaN        NaN      NaN              NaN    NaN         NaN   \n",
       "3         NaN        NaN      NaN              NaN    NaN         NaN   \n",
       "4         NaN        NaN      NaN              NaN    NaN         NaN   \n",
       "\n",
       "  inq_last_12m  noJobProvided  riskyDescr  \n",
       "0          NaN           True       False  \n",
       "1          NaN          False       False  \n",
       "2          NaN           True       False  \n",
       "3          NaN          False       False  \n",
       "4          NaN          False       False  \n",
       "\n",
       "[5 rows x 67 columns]"
      ]
     },
     "execution_count": 34,
     "metadata": {},
     "output_type": "execute_result"
    }
   ],
   "source": [
    "df.head()"
   ]
  },
  {
   "cell_type": "code",
   "execution_count": 35,
   "metadata": {
    "scrolled": true
   },
   "outputs": [],
   "source": [
    "#1. Strip `months` from `term` e.g. \"36 month\" to \"36\"\n",
    "#df['term'] = df['term'].str.split(' ').str[1] #str = string\n",
    "#breaking term values by space, turning [36 months] into [36, months]\n",
    "#Can anyone figure out why the index is 1 instead of 0? "
   ]
  },
  {
   "cell_type": "code",
   "execution_count": 36,
   "metadata": {
    "_cell_guid": "bdee8b9c-1f7c-408f-8317-cd2885a63c95",
    "_uuid": "04831b39ab0715563de9e382a749fbbd339373d1"
   },
   "outputs": [],
   "source": [
    "#interest rate is a string. Remove % and make it a float. \n",
    "#df['int_rate'] = df['int_rate'].str.split('%').str[0]\n",
    "#break int_rate terms by %, turning [10.65%] into [10.65]\n",
    "#df['int_rate'] = df.int_rate.astype(float)/100.\n",
    "#making it so that int_rate is now assigned type float\n",
    "#divide by 100 to convert to decimal and ensure proper value since % was removed"
   ]
  },
  {
   "cell_type": "code",
   "execution_count": 37,
   "metadata": {
    "scrolled": true
   },
   "outputs": [
    {
     "data": {
      "text/html": [
       "<div>\n",
       "<style scoped>\n",
       "    .dataframe tbody tr th:only-of-type {\n",
       "        vertical-align: middle;\n",
       "    }\n",
       "\n",
       "    .dataframe tbody tr th {\n",
       "        vertical-align: top;\n",
       "    }\n",
       "\n",
       "    .dataframe thead th {\n",
       "        text-align: right;\n",
       "    }\n",
       "</style>\n",
       "<table border=\"1\" class=\"dataframe\">\n",
       "  <thead>\n",
       "    <tr style=\"text-align: right;\">\n",
       "      <th></th>\n",
       "      <th>loan_amnt</th>\n",
       "      <th>funded_amnt</th>\n",
       "      <th>funded_amnt_inv</th>\n",
       "      <th>term</th>\n",
       "      <th>int_rate</th>\n",
       "      <th>installment</th>\n",
       "      <th>grade</th>\n",
       "      <th>sub_grade</th>\n",
       "      <th>emp_length</th>\n",
       "      <th>home_ownership</th>\n",
       "      <th>...</th>\n",
       "      <th>open_rv_12m</th>\n",
       "      <th>open_rv_24m</th>\n",
       "      <th>max_bal_bc</th>\n",
       "      <th>all_util</th>\n",
       "      <th>total_rev_hi_lim</th>\n",
       "      <th>inq_fi</th>\n",
       "      <th>total_cu_tl</th>\n",
       "      <th>inq_last_12m</th>\n",
       "      <th>noJobProvided</th>\n",
       "      <th>riskyDescr</th>\n",
       "    </tr>\n",
       "  </thead>\n",
       "  <tbody>\n",
       "    <tr>\n",
       "      <th>0</th>\n",
       "      <td>5000.0</td>\n",
       "      <td>5000.0</td>\n",
       "      <td>4975.0</td>\n",
       "      <td>36 months</td>\n",
       "      <td>10.65%</td>\n",
       "      <td>162.87</td>\n",
       "      <td>B</td>\n",
       "      <td>B2</td>\n",
       "      <td>10+ years</td>\n",
       "      <td>RENT</td>\n",
       "      <td>...</td>\n",
       "      <td>NaN</td>\n",
       "      <td>NaN</td>\n",
       "      <td>NaN</td>\n",
       "      <td>NaN</td>\n",
       "      <td>NaN</td>\n",
       "      <td>NaN</td>\n",
       "      <td>NaN</td>\n",
       "      <td>NaN</td>\n",
       "      <td>True</td>\n",
       "      <td>False</td>\n",
       "    </tr>\n",
       "    <tr>\n",
       "      <th>1</th>\n",
       "      <td>2500.0</td>\n",
       "      <td>2500.0</td>\n",
       "      <td>2500.0</td>\n",
       "      <td>60 months</td>\n",
       "      <td>15.27%</td>\n",
       "      <td>59.83</td>\n",
       "      <td>C</td>\n",
       "      <td>C4</td>\n",
       "      <td>&lt; 1 year</td>\n",
       "      <td>RENT</td>\n",
       "      <td>...</td>\n",
       "      <td>NaN</td>\n",
       "      <td>NaN</td>\n",
       "      <td>NaN</td>\n",
       "      <td>NaN</td>\n",
       "      <td>NaN</td>\n",
       "      <td>NaN</td>\n",
       "      <td>NaN</td>\n",
       "      <td>NaN</td>\n",
       "      <td>False</td>\n",
       "      <td>False</td>\n",
       "    </tr>\n",
       "    <tr>\n",
       "      <th>2</th>\n",
       "      <td>2400.0</td>\n",
       "      <td>2400.0</td>\n",
       "      <td>2400.0</td>\n",
       "      <td>36 months</td>\n",
       "      <td>15.96%</td>\n",
       "      <td>84.33</td>\n",
       "      <td>C</td>\n",
       "      <td>C5</td>\n",
       "      <td>10+ years</td>\n",
       "      <td>RENT</td>\n",
       "      <td>...</td>\n",
       "      <td>NaN</td>\n",
       "      <td>NaN</td>\n",
       "      <td>NaN</td>\n",
       "      <td>NaN</td>\n",
       "      <td>NaN</td>\n",
       "      <td>NaN</td>\n",
       "      <td>NaN</td>\n",
       "      <td>NaN</td>\n",
       "      <td>True</td>\n",
       "      <td>False</td>\n",
       "    </tr>\n",
       "    <tr>\n",
       "      <th>3</th>\n",
       "      <td>10000.0</td>\n",
       "      <td>10000.0</td>\n",
       "      <td>10000.0</td>\n",
       "      <td>36 months</td>\n",
       "      <td>13.49%</td>\n",
       "      <td>339.31</td>\n",
       "      <td>C</td>\n",
       "      <td>C1</td>\n",
       "      <td>10+ years</td>\n",
       "      <td>RENT</td>\n",
       "      <td>...</td>\n",
       "      <td>NaN</td>\n",
       "      <td>NaN</td>\n",
       "      <td>NaN</td>\n",
       "      <td>NaN</td>\n",
       "      <td>NaN</td>\n",
       "      <td>NaN</td>\n",
       "      <td>NaN</td>\n",
       "      <td>NaN</td>\n",
       "      <td>False</td>\n",
       "      <td>False</td>\n",
       "    </tr>\n",
       "    <tr>\n",
       "      <th>4</th>\n",
       "      <td>3000.0</td>\n",
       "      <td>3000.0</td>\n",
       "      <td>3000.0</td>\n",
       "      <td>60 months</td>\n",
       "      <td>12.69%</td>\n",
       "      <td>67.79</td>\n",
       "      <td>B</td>\n",
       "      <td>B5</td>\n",
       "      <td>1 year</td>\n",
       "      <td>RENT</td>\n",
       "      <td>...</td>\n",
       "      <td>NaN</td>\n",
       "      <td>NaN</td>\n",
       "      <td>NaN</td>\n",
       "      <td>NaN</td>\n",
       "      <td>NaN</td>\n",
       "      <td>NaN</td>\n",
       "      <td>NaN</td>\n",
       "      <td>NaN</td>\n",
       "      <td>False</td>\n",
       "      <td>False</td>\n",
       "    </tr>\n",
       "  </tbody>\n",
       "</table>\n",
       "<p>5 rows × 67 columns</p>\n",
       "</div>"
      ],
      "text/plain": [
       "   loan_amnt  funded_amnt  funded_amnt_inv        term int_rate  installment  \\\n",
       "0     5000.0       5000.0           4975.0   36 months   10.65%       162.87   \n",
       "1     2500.0       2500.0           2500.0   60 months   15.27%        59.83   \n",
       "2     2400.0       2400.0           2400.0   36 months   15.96%        84.33   \n",
       "3    10000.0      10000.0          10000.0   36 months   13.49%       339.31   \n",
       "4     3000.0       3000.0           3000.0   60 months   12.69%        67.79   \n",
       "\n",
       "  grade sub_grade emp_length home_ownership     ...      open_rv_12m  \\\n",
       "0     B        B2  10+ years           RENT     ...              NaN   \n",
       "1     C        C4   < 1 year           RENT     ...              NaN   \n",
       "2     C        C5  10+ years           RENT     ...              NaN   \n",
       "3     C        C1  10+ years           RENT     ...              NaN   \n",
       "4     B        B5     1 year           RENT     ...              NaN   \n",
       "\n",
       "  open_rv_24m max_bal_bc all_util total_rev_hi_lim inq_fi total_cu_tl  \\\n",
       "0         NaN        NaN      NaN              NaN    NaN         NaN   \n",
       "1         NaN        NaN      NaN              NaN    NaN         NaN   \n",
       "2         NaN        NaN      NaN              NaN    NaN         NaN   \n",
       "3         NaN        NaN      NaN              NaN    NaN         NaN   \n",
       "4         NaN        NaN      NaN              NaN    NaN         NaN   \n",
       "\n",
       "  inq_last_12m  noJobProvided  riskyDescr  \n",
       "0          NaN           True       False  \n",
       "1          NaN          False       False  \n",
       "2          NaN           True       False  \n",
       "3          NaN          False       False  \n",
       "4          NaN          False       False  \n",
       "\n",
       "[5 rows x 67 columns]"
      ]
     },
     "execution_count": 37,
     "metadata": {},
     "output_type": "execute_result"
    }
   ],
   "source": [
    "df.head() #success"
   ]
  },
  {
   "cell_type": "markdown",
   "metadata": {},
   "source": [
    "Extract numbers from emp_length and fill missing values with the median."
   ]
  },
  {
   "cell_type": "code",
   "execution_count": 38,
   "metadata": {},
   "outputs": [],
   "source": [
    "df['emp_length'] = df['emp_length'].str.extract('(\\d+)').astype(float)\n",
    "#\\d+ extracts the integer\n",
    "#emp_length is probably important for modelling defaul, so I don't want to drop it, but instead fill in missing values. But that could be wrong. I'm making up data, after all. Check later?\n",
    "df['emp_length'] = df['emp_length'].fillna(df.emp_length.median())\n",
    "#assigning median values to fill missing values, done by .fillna feature\n"
   ]
  },
  {
   "cell_type": "markdown",
   "metadata": {},
   "source": [
    "Change the format of the datetime"
   ]
  },
  {
   "cell_type": "code",
   "execution_count": 39,
   "metadata": {},
   "outputs": [],
   "source": [
    "col_dates = df.dtypes[df.dtypes == 'datetime64[ns]'].index\n",
    "#selecting all values in dataframe whose datatype is equal to datetimes, assigning to col_dates\n",
    "for d in col_dates:\n",
    "    df[d] = df[d].dt.to_period('M')\n",
    "#creating for loop where for all dates in col_dates, the datatype will be converted to period\n",
    "#Periods are a class in Python that represent periods of time, and are much easier to manipulate than the current format\n",
    "#'M' input for to_period stands for months, since that is the time period we are dealing with"
   ]
  },
  {
   "cell_type": "code",
   "execution_count": 40,
   "metadata": {
    "scrolled": true
   },
   "outputs": [
    {
     "data": {
      "text/html": [
       "<div>\n",
       "<style scoped>\n",
       "    .dataframe tbody tr th:only-of-type {\n",
       "        vertical-align: middle;\n",
       "    }\n",
       "\n",
       "    .dataframe tbody tr th {\n",
       "        vertical-align: top;\n",
       "    }\n",
       "\n",
       "    .dataframe thead th {\n",
       "        text-align: right;\n",
       "    }\n",
       "</style>\n",
       "<table border=\"1\" class=\"dataframe\">\n",
       "  <thead>\n",
       "    <tr style=\"text-align: right;\">\n",
       "      <th></th>\n",
       "      <th>loan_amnt</th>\n",
       "      <th>funded_amnt</th>\n",
       "      <th>funded_amnt_inv</th>\n",
       "      <th>term</th>\n",
       "      <th>int_rate</th>\n",
       "      <th>installment</th>\n",
       "      <th>grade</th>\n",
       "      <th>sub_grade</th>\n",
       "      <th>emp_length</th>\n",
       "      <th>home_ownership</th>\n",
       "      <th>...</th>\n",
       "      <th>open_rv_12m</th>\n",
       "      <th>open_rv_24m</th>\n",
       "      <th>max_bal_bc</th>\n",
       "      <th>all_util</th>\n",
       "      <th>total_rev_hi_lim</th>\n",
       "      <th>inq_fi</th>\n",
       "      <th>total_cu_tl</th>\n",
       "      <th>inq_last_12m</th>\n",
       "      <th>noJobProvided</th>\n",
       "      <th>riskyDescr</th>\n",
       "    </tr>\n",
       "  </thead>\n",
       "  <tbody>\n",
       "    <tr>\n",
       "      <th>0</th>\n",
       "      <td>5000.0</td>\n",
       "      <td>5000.0</td>\n",
       "      <td>4975.0</td>\n",
       "      <td>36 months</td>\n",
       "      <td>10.65%</td>\n",
       "      <td>162.87</td>\n",
       "      <td>B</td>\n",
       "      <td>B2</td>\n",
       "      <td>10.0</td>\n",
       "      <td>RENT</td>\n",
       "      <td>...</td>\n",
       "      <td>NaN</td>\n",
       "      <td>NaN</td>\n",
       "      <td>NaN</td>\n",
       "      <td>NaN</td>\n",
       "      <td>NaN</td>\n",
       "      <td>NaN</td>\n",
       "      <td>NaN</td>\n",
       "      <td>NaN</td>\n",
       "      <td>True</td>\n",
       "      <td>False</td>\n",
       "    </tr>\n",
       "    <tr>\n",
       "      <th>1</th>\n",
       "      <td>2500.0</td>\n",
       "      <td>2500.0</td>\n",
       "      <td>2500.0</td>\n",
       "      <td>60 months</td>\n",
       "      <td>15.27%</td>\n",
       "      <td>59.83</td>\n",
       "      <td>C</td>\n",
       "      <td>C4</td>\n",
       "      <td>1.0</td>\n",
       "      <td>RENT</td>\n",
       "      <td>...</td>\n",
       "      <td>NaN</td>\n",
       "      <td>NaN</td>\n",
       "      <td>NaN</td>\n",
       "      <td>NaN</td>\n",
       "      <td>NaN</td>\n",
       "      <td>NaN</td>\n",
       "      <td>NaN</td>\n",
       "      <td>NaN</td>\n",
       "      <td>False</td>\n",
       "      <td>False</td>\n",
       "    </tr>\n",
       "    <tr>\n",
       "      <th>2</th>\n",
       "      <td>2400.0</td>\n",
       "      <td>2400.0</td>\n",
       "      <td>2400.0</td>\n",
       "      <td>36 months</td>\n",
       "      <td>15.96%</td>\n",
       "      <td>84.33</td>\n",
       "      <td>C</td>\n",
       "      <td>C5</td>\n",
       "      <td>10.0</td>\n",
       "      <td>RENT</td>\n",
       "      <td>...</td>\n",
       "      <td>NaN</td>\n",
       "      <td>NaN</td>\n",
       "      <td>NaN</td>\n",
       "      <td>NaN</td>\n",
       "      <td>NaN</td>\n",
       "      <td>NaN</td>\n",
       "      <td>NaN</td>\n",
       "      <td>NaN</td>\n",
       "      <td>True</td>\n",
       "      <td>False</td>\n",
       "    </tr>\n",
       "    <tr>\n",
       "      <th>3</th>\n",
       "      <td>10000.0</td>\n",
       "      <td>10000.0</td>\n",
       "      <td>10000.0</td>\n",
       "      <td>36 months</td>\n",
       "      <td>13.49%</td>\n",
       "      <td>339.31</td>\n",
       "      <td>C</td>\n",
       "      <td>C1</td>\n",
       "      <td>10.0</td>\n",
       "      <td>RENT</td>\n",
       "      <td>...</td>\n",
       "      <td>NaN</td>\n",
       "      <td>NaN</td>\n",
       "      <td>NaN</td>\n",
       "      <td>NaN</td>\n",
       "      <td>NaN</td>\n",
       "      <td>NaN</td>\n",
       "      <td>NaN</td>\n",
       "      <td>NaN</td>\n",
       "      <td>False</td>\n",
       "      <td>False</td>\n",
       "    </tr>\n",
       "    <tr>\n",
       "      <th>4</th>\n",
       "      <td>3000.0</td>\n",
       "      <td>3000.0</td>\n",
       "      <td>3000.0</td>\n",
       "      <td>60 months</td>\n",
       "      <td>12.69%</td>\n",
       "      <td>67.79</td>\n",
       "      <td>B</td>\n",
       "      <td>B5</td>\n",
       "      <td>1.0</td>\n",
       "      <td>RENT</td>\n",
       "      <td>...</td>\n",
       "      <td>NaN</td>\n",
       "      <td>NaN</td>\n",
       "      <td>NaN</td>\n",
       "      <td>NaN</td>\n",
       "      <td>NaN</td>\n",
       "      <td>NaN</td>\n",
       "      <td>NaN</td>\n",
       "      <td>NaN</td>\n",
       "      <td>False</td>\n",
       "      <td>False</td>\n",
       "    </tr>\n",
       "  </tbody>\n",
       "</table>\n",
       "<p>5 rows × 67 columns</p>\n",
       "</div>"
      ],
      "text/plain": [
       "   loan_amnt  funded_amnt  funded_amnt_inv        term int_rate  installment  \\\n",
       "0     5000.0       5000.0           4975.0   36 months   10.65%       162.87   \n",
       "1     2500.0       2500.0           2500.0   60 months   15.27%        59.83   \n",
       "2     2400.0       2400.0           2400.0   36 months   15.96%        84.33   \n",
       "3    10000.0      10000.0          10000.0   36 months   13.49%       339.31   \n",
       "4     3000.0       3000.0           3000.0   60 months   12.69%        67.79   \n",
       "\n",
       "  grade sub_grade  emp_length home_ownership     ...      open_rv_12m  \\\n",
       "0     B        B2        10.0           RENT     ...              NaN   \n",
       "1     C        C4         1.0           RENT     ...              NaN   \n",
       "2     C        C5        10.0           RENT     ...              NaN   \n",
       "3     C        C1        10.0           RENT     ...              NaN   \n",
       "4     B        B5         1.0           RENT     ...              NaN   \n",
       "\n",
       "  open_rv_24m max_bal_bc all_util total_rev_hi_lim inq_fi total_cu_tl  \\\n",
       "0         NaN        NaN      NaN              NaN    NaN         NaN   \n",
       "1         NaN        NaN      NaN              NaN    NaN         NaN   \n",
       "2         NaN        NaN      NaN              NaN    NaN         NaN   \n",
       "3         NaN        NaN      NaN              NaN    NaN         NaN   \n",
       "4         NaN        NaN      NaN              NaN    NaN         NaN   \n",
       "\n",
       "  inq_last_12m  noJobProvided  riskyDescr  \n",
       "0          NaN           True       False  \n",
       "1          NaN          False       False  \n",
       "2          NaN           True       False  \n",
       "3          NaN          False       False  \n",
       "4          NaN          False       False  \n",
       "\n",
       "[5 rows x 67 columns]"
      ]
     },
     "execution_count": 40,
     "metadata": {},
     "output_type": "execute_result"
    }
   ],
   "source": [
    "df.head() #reload dataframe"
   ]
  },
  {
   "cell_type": "markdown",
   "metadata": {},
   "source": [
    "Now, to check the types of the dataframe to make sure things worked"
   ]
  },
  {
   "cell_type": "code",
   "execution_count": 41,
   "metadata": {},
   "outputs": [
    {
     "data": {
      "text/plain": [
       "loan_amnt                      float64\n",
       "funded_amnt                    float64\n",
       "funded_amnt_inv                float64\n",
       "term                            object\n",
       "int_rate                        object\n",
       "installment                    float64\n",
       "grade                           object\n",
       "sub_grade                       object\n",
       "emp_length                     float64\n",
       "home_ownership                  object\n",
       "annual_inc                     float64\n",
       "verification_status             object\n",
       "issue_d                         object\n",
       "loan_status                     object\n",
       "desc                            object\n",
       "purpose                         object\n",
       "title                           object\n",
       "addr_state                      object\n",
       "dti                            float64\n",
       "delinq_2yrs                    float64\n",
       "earliest_cr_line                object\n",
       "inq_last_6mths                 float64\n",
       "mths_since_last_delinq         float64\n",
       "mths_since_last_record         float64\n",
       "open_acc                       float64\n",
       "pub_rec                        float64\n",
       "revol_bal                      float64\n",
       "revol_util                      object\n",
       "total_acc                      float64\n",
       "initial_list_status             object\n",
       "                                ...   \n",
       "recoveries                     float64\n",
       "collection_recovery_fee        float64\n",
       "last_pymnt_d                    object\n",
       "last_pymnt_amnt                float64\n",
       "next_pymnt_d                    object\n",
       "last_credit_pull_d              object\n",
       "collections_12_mths_ex_med     float64\n",
       "mths_since_last_major_derog    float64\n",
       "annual_inc_joint               float64\n",
       "dti_joint                      float64\n",
       "verification_status_joint       object\n",
       "tot_coll_amt                   float64\n",
       "tot_cur_bal                    float64\n",
       "open_acc_6m                    float64\n",
       "open_il_6m                     float64\n",
       "open_il_12m                    float64\n",
       "open_il_24m                    float64\n",
       "mths_since_rcnt_il             float64\n",
       "total_bal_il                   float64\n",
       "il_util                        float64\n",
       "open_rv_12m                    float64\n",
       "open_rv_24m                    float64\n",
       "max_bal_bc                     float64\n",
       "all_util                       float64\n",
       "total_rev_hi_lim               float64\n",
       "inq_fi                         float64\n",
       "total_cu_tl                    float64\n",
       "inq_last_12m                   float64\n",
       "noJobProvided                   object\n",
       "riskyDescr                      object\n",
       "Length: 67, dtype: object"
      ]
     },
     "execution_count": 41,
     "metadata": {},
     "output_type": "execute_result"
    }
   ],
   "source": [
    "df.dtypes"
   ]
  },
  {
   "cell_type": "markdown",
   "metadata": {},
   "source": [
    "Now we can move onto the modelling!"
   ]
  },
  {
   "cell_type": "markdown",
   "metadata": {
    "_cell_guid": "6fb210bd-b43d-4e0a-acd2-c6c48ae3b64c",
    "_uuid": "1560a957b2928f084b4828816d1adb4633f2850d"
   },
   "source": [
    "# Data Modelling"
   ]
  },
  {
   "cell_type": "markdown",
   "metadata": {
    "_cell_guid": "3264f8c8-f549-4005-b457-9437e0ac7d77",
    "_uuid": "c28570af41ba52c1be71de008e3bac0d9e10276d"
   },
   "source": [
    "Let's build a model which predicts the status charged_off. (Which question does that answer? Are you perhaps also interested in answering different questions?) Let's first check which fraction of the observations is charged off."
   ]
  },
  {
   "cell_type": "code",
   "execution_count": 42,
   "metadata": {
    "scrolled": true
   },
   "outputs": [
    {
     "data": {
      "text/plain": [
       "loan_status\n",
       "Current                                                67.815250\n",
       "Fully Paid                                             23.408607\n",
       "Charged Off                                             5.099038\n",
       "Late (31-120 days)                                      1.306200\n",
       "Issued                                                  0.953365\n",
       "In Grace Period                                         0.704656\n",
       "Late (16-30 days)                                       0.265612\n",
       "Does not meet the credit policy. Status:Fully Paid      0.224030\n",
       "Default                                                 0.137370\n",
       "Does not meet the credit policy. Status:Charged Off     0.085758\n",
       "dtype: float64"
      ]
     },
     "execution_count": 42,
     "metadata": {},
     "output_type": "execute_result"
    }
   ],
   "source": [
    "loan_status_grouped = df.groupby('loan_status').size().sort_values(ascending=False)/len(df) * 100\n",
    "#checking each loan status by pulling the column of statuses and sorting from high to low commonality\n",
    "#divide by length of data frame in end to figure out percentage of total dataframe that is status\n",
    "#multiply by 100 since percentages (since there is no % sign)\n",
    "loan_status_grouped\n",
    "#show status breakdown"
   ]
  },
  {
   "cell_type": "markdown",
   "metadata": {
    "_cell_guid": "cd2825fd-caba-4ddb-a793-7ededf4ba8c4",
    "_uuid": "d40f7a475d4cb37200d893a54fd3bccf2ae589c8"
   },
   "source": [
    "Now we can think of constructing features that are transformation of existing features. (E.g. remember: if you use linear models, you may want to construct variables that allow linear models to fit non-linear relationships along a particular dimension. Think y = x^2.)\n",
    "\n",
    "* Let's keep the loan_amount, but let's create a metric which indicates that the total amount committed by investors for that loan at that point in time (funded_amnt_inv) is less than what the borrower requested. Perhaps that indicates that other investors aren't super comfortable with the repayment ability?"
   ]
  },
  {
   "cell_type": "code",
   "execution_count": 43,
   "metadata": {
    "_cell_guid": "324e99bb-8a5e-4a4d-aeac-310629d243cc",
    "_uuid": "c3710bbef5ad4469522de3a001da4c206bb676c6"
   },
   "outputs": [
    {
     "data": {
      "text/html": [
       "<div>\n",
       "<style scoped>\n",
       "    .dataframe tbody tr th:only-of-type {\n",
       "        vertical-align: middle;\n",
       "    }\n",
       "\n",
       "    .dataframe tbody tr th {\n",
       "        vertical-align: top;\n",
       "    }\n",
       "\n",
       "    .dataframe thead th {\n",
       "        text-align: right;\n",
       "    }\n",
       "</style>\n",
       "<table border=\"1\" class=\"dataframe\">\n",
       "  <thead>\n",
       "    <tr style=\"text-align: right;\">\n",
       "      <th></th>\n",
       "      <th>loan_amnt</th>\n",
       "      <th>funded_amnt</th>\n",
       "      <th>funded_amnt_inv</th>\n",
       "      <th>term</th>\n",
       "      <th>int_rate</th>\n",
       "      <th>installment</th>\n",
       "      <th>grade</th>\n",
       "      <th>sub_grade</th>\n",
       "      <th>emp_length</th>\n",
       "      <th>home_ownership</th>\n",
       "      <th>...</th>\n",
       "      <th>open_rv_24m</th>\n",
       "      <th>max_bal_bc</th>\n",
       "      <th>all_util</th>\n",
       "      <th>total_rev_hi_lim</th>\n",
       "      <th>inq_fi</th>\n",
       "      <th>total_cu_tl</th>\n",
       "      <th>inq_last_12m</th>\n",
       "      <th>noJobProvided</th>\n",
       "      <th>riskyDescr</th>\n",
       "      <th>amt_difference</th>\n",
       "    </tr>\n",
       "  </thead>\n",
       "  <tbody>\n",
       "    <tr>\n",
       "      <th>0</th>\n",
       "      <td>5000.0</td>\n",
       "      <td>5000.0</td>\n",
       "      <td>4975.0</td>\n",
       "      <td>36 months</td>\n",
       "      <td>10.65%</td>\n",
       "      <td>162.87</td>\n",
       "      <td>B</td>\n",
       "      <td>B2</td>\n",
       "      <td>10.0</td>\n",
       "      <td>RENT</td>\n",
       "      <td>...</td>\n",
       "      <td>NaN</td>\n",
       "      <td>NaN</td>\n",
       "      <td>NaN</td>\n",
       "      <td>NaN</td>\n",
       "      <td>NaN</td>\n",
       "      <td>NaN</td>\n",
       "      <td>NaN</td>\n",
       "      <td>True</td>\n",
       "      <td>False</td>\n",
       "      <td>less</td>\n",
       "    </tr>\n",
       "    <tr>\n",
       "      <th>1</th>\n",
       "      <td>2500.0</td>\n",
       "      <td>2500.0</td>\n",
       "      <td>2500.0</td>\n",
       "      <td>60 months</td>\n",
       "      <td>15.27%</td>\n",
       "      <td>59.83</td>\n",
       "      <td>C</td>\n",
       "      <td>C4</td>\n",
       "      <td>1.0</td>\n",
       "      <td>RENT</td>\n",
       "      <td>...</td>\n",
       "      <td>NaN</td>\n",
       "      <td>NaN</td>\n",
       "      <td>NaN</td>\n",
       "      <td>NaN</td>\n",
       "      <td>NaN</td>\n",
       "      <td>NaN</td>\n",
       "      <td>NaN</td>\n",
       "      <td>False</td>\n",
       "      <td>False</td>\n",
       "      <td>eq</td>\n",
       "    </tr>\n",
       "    <tr>\n",
       "      <th>2</th>\n",
       "      <td>2400.0</td>\n",
       "      <td>2400.0</td>\n",
       "      <td>2400.0</td>\n",
       "      <td>36 months</td>\n",
       "      <td>15.96%</td>\n",
       "      <td>84.33</td>\n",
       "      <td>C</td>\n",
       "      <td>C5</td>\n",
       "      <td>10.0</td>\n",
       "      <td>RENT</td>\n",
       "      <td>...</td>\n",
       "      <td>NaN</td>\n",
       "      <td>NaN</td>\n",
       "      <td>NaN</td>\n",
       "      <td>NaN</td>\n",
       "      <td>NaN</td>\n",
       "      <td>NaN</td>\n",
       "      <td>NaN</td>\n",
       "      <td>True</td>\n",
       "      <td>False</td>\n",
       "      <td>eq</td>\n",
       "    </tr>\n",
       "    <tr>\n",
       "      <th>3</th>\n",
       "      <td>10000.0</td>\n",
       "      <td>10000.0</td>\n",
       "      <td>10000.0</td>\n",
       "      <td>36 months</td>\n",
       "      <td>13.49%</td>\n",
       "      <td>339.31</td>\n",
       "      <td>C</td>\n",
       "      <td>C1</td>\n",
       "      <td>10.0</td>\n",
       "      <td>RENT</td>\n",
       "      <td>...</td>\n",
       "      <td>NaN</td>\n",
       "      <td>NaN</td>\n",
       "      <td>NaN</td>\n",
       "      <td>NaN</td>\n",
       "      <td>NaN</td>\n",
       "      <td>NaN</td>\n",
       "      <td>NaN</td>\n",
       "      <td>False</td>\n",
       "      <td>False</td>\n",
       "      <td>eq</td>\n",
       "    </tr>\n",
       "    <tr>\n",
       "      <th>4</th>\n",
       "      <td>3000.0</td>\n",
       "      <td>3000.0</td>\n",
       "      <td>3000.0</td>\n",
       "      <td>60 months</td>\n",
       "      <td>12.69%</td>\n",
       "      <td>67.79</td>\n",
       "      <td>B</td>\n",
       "      <td>B5</td>\n",
       "      <td>1.0</td>\n",
       "      <td>RENT</td>\n",
       "      <td>...</td>\n",
       "      <td>NaN</td>\n",
       "      <td>NaN</td>\n",
       "      <td>NaN</td>\n",
       "      <td>NaN</td>\n",
       "      <td>NaN</td>\n",
       "      <td>NaN</td>\n",
       "      <td>NaN</td>\n",
       "      <td>False</td>\n",
       "      <td>False</td>\n",
       "      <td>eq</td>\n",
       "    </tr>\n",
       "  </tbody>\n",
       "</table>\n",
       "<p>5 rows × 68 columns</p>\n",
       "</div>"
      ],
      "text/plain": [
       "   loan_amnt  funded_amnt  funded_amnt_inv        term int_rate  installment  \\\n",
       "0     5000.0       5000.0           4975.0   36 months   10.65%       162.87   \n",
       "1     2500.0       2500.0           2500.0   60 months   15.27%        59.83   \n",
       "2     2400.0       2400.0           2400.0   36 months   15.96%        84.33   \n",
       "3    10000.0      10000.0          10000.0   36 months   13.49%       339.31   \n",
       "4     3000.0       3000.0           3000.0   60 months   12.69%        67.79   \n",
       "\n",
       "  grade sub_grade  emp_length home_ownership       ...        open_rv_24m  \\\n",
       "0     B        B2        10.0           RENT       ...                NaN   \n",
       "1     C        C4         1.0           RENT       ...                NaN   \n",
       "2     C        C5        10.0           RENT       ...                NaN   \n",
       "3     C        C1        10.0           RENT       ...                NaN   \n",
       "4     B        B5         1.0           RENT       ...                NaN   \n",
       "\n",
       "  max_bal_bc all_util total_rev_hi_lim inq_fi total_cu_tl inq_last_12m  \\\n",
       "0        NaN      NaN              NaN    NaN         NaN          NaN   \n",
       "1        NaN      NaN              NaN    NaN         NaN          NaN   \n",
       "2        NaN      NaN              NaN    NaN         NaN          NaN   \n",
       "3        NaN      NaN              NaN    NaN         NaN          NaN   \n",
       "4        NaN      NaN              NaN    NaN         NaN          NaN   \n",
       "\n",
       "  noJobProvided  riskyDescr  amt_difference  \n",
       "0          True       False            less  \n",
       "1         False       False              eq  \n",
       "2          True       False              eq  \n",
       "3         False       False              eq  \n",
       "4         False       False              eq  \n",
       "\n",
       "[5 rows x 68 columns]"
      ]
     },
     "execution_count": 43,
     "metadata": {},
     "output_type": "execute_result"
    }
   ],
   "source": [
    "df['amt_difference'] = 'eq' #set equal as the default value for amt_difference\n",
    "df.loc[(df['funded_amnt'] - df['funded_amnt_inv']) > 0,'amt_difference'] = 'less'\n",
    "#replaces the value equal with less in case the funded amount is less than requested\n",
    "df.head()"
   ]
  },
  {
   "cell_type": "markdown",
   "metadata": {
    "_cell_guid": "45e5360c-91df-401b-82c1-2b19f8cfa763",
    "_uuid": "f7456cb16718108c1f118a740e42e8cfdcf3aff5"
   },
   "source": [
    "\n",
    "* the metrics `delinq_2yrs` has 80% zeros. Let's make it categorical: `no` when `delinq_2yrs == 0` and `yes` when  `delinq_2yrs > 0`\n",
    "\n",
    "* Same as above for `inq_last_6mths`: The number of inquiries in past 6 months (excluding auto and mortgage inquiries)\n",
    "\n",
    "* Same as above for `pub_rec`: let's make the number of derogatory public records a binary. (You may play with that and see if we lose information.)"
   ]
  },
  {
   "cell_type": "code",
   "execution_count": 44,
   "metadata": {
    "_cell_guid": "86076fa6-877f-404f-928b-548d3e327805",
    "_uuid": "b942658786a2a0c6e1d50a6c53eb0dcd7e287a5a"
   },
   "outputs": [],
   "source": [
    "# Turn some continuous variables into binaries\n",
    "\n",
    "df['delinq_2yrs_cat'] = 'no'\n",
    "df.loc[df['delinq_2yrs']> 0,'delinq_2yrs_cat'] = 'yes'\n",
    "#.loc access a group of rows and columns by label(s) or a boolean/conditional lookup, which is why it is being used here\n",
    "#label used is the dataframe for delinq, if greater than 0 assigning those values yes\n",
    "#.loc lets us scour this data and insert yes when the boolean condition demands it\n",
    "\n",
    "df['inq_last_6mths_cat'] = 'no'\n",
    "df.loc[df['inq_last_6mths']> 0,'inq_last_6mths_cat'] = 'yes'\n",
    "#same idea as above\n",
    "\n",
    "df['pub_rec_cat'] = 'no'\n",
    "df.loc[df['pub_rec']> 0,'pub_rec_cat'] = 'yes'\n",
    "#same idea as above\n",
    "\n",
    "# Create new metric: which fraction of total credit lines is the borrower currently able to still borrow from?\n",
    "df['acc_ratio'] = df.open_acc / df.total_acc\n",
    "#new ratio takes open accounts and divides by total accounts to find fraction of total that are open"
   ]
  },
  {
   "cell_type": "markdown",
   "metadata": {
    "_cell_guid": "ce384281-9f5c-47b9-b08d-93fcb4a24567",
    "_uuid": "798c3e6e553f75f233868e51ec89865f61c88aab"
   },
   "source": [
    "These are the features we want to use as predictors of charge-off"
   ]
  },
  {
   "cell_type": "code",
   "execution_count": 45,
   "metadata": {
    "_cell_guid": "9b7b4741-d61d-4404-a172-13fdc9ad24fc",
    "_uuid": "4e8ec281717ceeabe9dc89587ad1cd638393a9aa"
   },
   "outputs": [],
   "source": [
    "features = ['riskyDescr', 'noJobProvided', 'loan_amnt', 'amt_difference', 'term', \n",
    "            'installment', 'grade','emp_length',\n",
    "            'home_ownership', 'annual_inc','verification_status',\n",
    "            'purpose', 'dti', 'delinq_2yrs_cat', 'inq_last_6mths_cat', \n",
    "            'open_acc', 'pub_rec', 'pub_rec_cat', 'acc_ratio', 'initial_list_status',  \n",
    "            'loan_status'\n",
    "           ]\n",
    "#creating list of features"
   ]
  },
  {
   "cell_type": "markdown",
   "metadata": {
    "_cell_guid": "3d291be0-1b58-43bc-9b51-e18e0dba8b0c",
    "_uuid": "07682f5040e7359ea6e4028301cb0b14c687ca81"
   },
   "source": [
    "We want to distinguish between a customer who will *charge off* and a customer who will pay in full. For this iteration of this exercise, we remove borrowers who are current. But that limits our sample in interesting ways. We will reconsider this step in the future."
   ]
  },
  {
   "cell_type": "code",
   "execution_count": 46,
   "metadata": {
    "_cell_guid": "f26568e8-72b0-4b29-9f85-76514a46d0a6",
    "_uuid": "02efe9696ceaa912debfceb86934d945800df8f1",
    "scrolled": true
   },
   "outputs": [
    {
     "data": {
      "text/html": [
       "<div>\n",
       "<style scoped>\n",
       "    .dataframe tbody tr th:only-of-type {\n",
       "        vertical-align: middle;\n",
       "    }\n",
       "\n",
       "    .dataframe tbody tr th {\n",
       "        vertical-align: top;\n",
       "    }\n",
       "\n",
       "    .dataframe thead th {\n",
       "        text-align: right;\n",
       "    }\n",
       "</style>\n",
       "<table border=\"1\" class=\"dataframe\">\n",
       "  <thead>\n",
       "    <tr style=\"text-align: right;\">\n",
       "      <th></th>\n",
       "      <th>riskyDescr</th>\n",
       "      <th>noJobProvided</th>\n",
       "      <th>loan_amnt</th>\n",
       "      <th>amt_difference</th>\n",
       "      <th>term</th>\n",
       "      <th>installment</th>\n",
       "      <th>grade</th>\n",
       "      <th>emp_length</th>\n",
       "      <th>home_ownership</th>\n",
       "      <th>annual_inc</th>\n",
       "      <th>...</th>\n",
       "      <th>purpose</th>\n",
       "      <th>dti</th>\n",
       "      <th>delinq_2yrs_cat</th>\n",
       "      <th>inq_last_6mths_cat</th>\n",
       "      <th>open_acc</th>\n",
       "      <th>pub_rec</th>\n",
       "      <th>pub_rec_cat</th>\n",
       "      <th>acc_ratio</th>\n",
       "      <th>initial_list_status</th>\n",
       "      <th>loan_status</th>\n",
       "    </tr>\n",
       "  </thead>\n",
       "  <tbody>\n",
       "    <tr>\n",
       "      <th>0</th>\n",
       "      <td>False</td>\n",
       "      <td>True</td>\n",
       "      <td>5000.0</td>\n",
       "      <td>less</td>\n",
       "      <td>36 months</td>\n",
       "      <td>162.87</td>\n",
       "      <td>B</td>\n",
       "      <td>10.0</td>\n",
       "      <td>RENT</td>\n",
       "      <td>24000.0</td>\n",
       "      <td>...</td>\n",
       "      <td>credit_card</td>\n",
       "      <td>27.65</td>\n",
       "      <td>no</td>\n",
       "      <td>yes</td>\n",
       "      <td>3.0</td>\n",
       "      <td>0.0</td>\n",
       "      <td>no</td>\n",
       "      <td>0.333333</td>\n",
       "      <td>f</td>\n",
       "      <td>Fully Paid</td>\n",
       "    </tr>\n",
       "    <tr>\n",
       "      <th>1</th>\n",
       "      <td>False</td>\n",
       "      <td>False</td>\n",
       "      <td>2500.0</td>\n",
       "      <td>eq</td>\n",
       "      <td>60 months</td>\n",
       "      <td>59.83</td>\n",
       "      <td>C</td>\n",
       "      <td>1.0</td>\n",
       "      <td>RENT</td>\n",
       "      <td>30000.0</td>\n",
       "      <td>...</td>\n",
       "      <td>car</td>\n",
       "      <td>1.00</td>\n",
       "      <td>no</td>\n",
       "      <td>yes</td>\n",
       "      <td>3.0</td>\n",
       "      <td>0.0</td>\n",
       "      <td>no</td>\n",
       "      <td>0.750000</td>\n",
       "      <td>f</td>\n",
       "      <td>Charged Off</td>\n",
       "    </tr>\n",
       "    <tr>\n",
       "      <th>2</th>\n",
       "      <td>False</td>\n",
       "      <td>True</td>\n",
       "      <td>2400.0</td>\n",
       "      <td>eq</td>\n",
       "      <td>36 months</td>\n",
       "      <td>84.33</td>\n",
       "      <td>C</td>\n",
       "      <td>10.0</td>\n",
       "      <td>RENT</td>\n",
       "      <td>12252.0</td>\n",
       "      <td>...</td>\n",
       "      <td>small_business</td>\n",
       "      <td>8.72</td>\n",
       "      <td>no</td>\n",
       "      <td>yes</td>\n",
       "      <td>2.0</td>\n",
       "      <td>0.0</td>\n",
       "      <td>no</td>\n",
       "      <td>0.200000</td>\n",
       "      <td>f</td>\n",
       "      <td>Fully Paid</td>\n",
       "    </tr>\n",
       "    <tr>\n",
       "      <th>3</th>\n",
       "      <td>False</td>\n",
       "      <td>False</td>\n",
       "      <td>10000.0</td>\n",
       "      <td>eq</td>\n",
       "      <td>36 months</td>\n",
       "      <td>339.31</td>\n",
       "      <td>C</td>\n",
       "      <td>10.0</td>\n",
       "      <td>RENT</td>\n",
       "      <td>49200.0</td>\n",
       "      <td>...</td>\n",
       "      <td>other</td>\n",
       "      <td>20.00</td>\n",
       "      <td>no</td>\n",
       "      <td>yes</td>\n",
       "      <td>10.0</td>\n",
       "      <td>0.0</td>\n",
       "      <td>no</td>\n",
       "      <td>0.270270</td>\n",
       "      <td>f</td>\n",
       "      <td>Fully Paid</td>\n",
       "    </tr>\n",
       "    <tr>\n",
       "      <th>5</th>\n",
       "      <td>True</td>\n",
       "      <td>False</td>\n",
       "      <td>5000.0</td>\n",
       "      <td>eq</td>\n",
       "      <td>36 months</td>\n",
       "      <td>156.46</td>\n",
       "      <td>A</td>\n",
       "      <td>3.0</td>\n",
       "      <td>RENT</td>\n",
       "      <td>36000.0</td>\n",
       "      <td>...</td>\n",
       "      <td>wedding</td>\n",
       "      <td>11.20</td>\n",
       "      <td>no</td>\n",
       "      <td>yes</td>\n",
       "      <td>9.0</td>\n",
       "      <td>0.0</td>\n",
       "      <td>no</td>\n",
       "      <td>0.750000</td>\n",
       "      <td>f</td>\n",
       "      <td>Fully Paid</td>\n",
       "    </tr>\n",
       "  </tbody>\n",
       "</table>\n",
       "<p>5 rows × 21 columns</p>\n",
       "</div>"
      ],
      "text/plain": [
       "  riskyDescr noJobProvided  loan_amnt amt_difference        term  installment  \\\n",
       "0      False          True     5000.0           less   36 months       162.87   \n",
       "1      False         False     2500.0             eq   60 months        59.83   \n",
       "2      False          True     2400.0             eq   36 months        84.33   \n",
       "3      False         False    10000.0             eq   36 months       339.31   \n",
       "5       True         False     5000.0             eq   36 months       156.46   \n",
       "\n",
       "  grade  emp_length home_ownership  annual_inc     ...              purpose  \\\n",
       "0     B        10.0           RENT     24000.0     ...          credit_card   \n",
       "1     C         1.0           RENT     30000.0     ...                  car   \n",
       "2     C        10.0           RENT     12252.0     ...       small_business   \n",
       "3     C        10.0           RENT     49200.0     ...                other   \n",
       "5     A         3.0           RENT     36000.0     ...              wedding   \n",
       "\n",
       "     dti  delinq_2yrs_cat inq_last_6mths_cat open_acc  pub_rec  pub_rec_cat  \\\n",
       "0  27.65               no                yes      3.0      0.0           no   \n",
       "1   1.00               no                yes      3.0      0.0           no   \n",
       "2   8.72               no                yes      2.0      0.0           no   \n",
       "3  20.00               no                yes     10.0      0.0           no   \n",
       "5  11.20               no                yes      9.0      0.0           no   \n",
       "\n",
       "  acc_ratio  initial_list_status  loan_status  \n",
       "0  0.333333                    f   Fully Paid  \n",
       "1  0.750000                    f  Charged Off  \n",
       "2  0.200000                    f   Fully Paid  \n",
       "3  0.270270                    f   Fully Paid  \n",
       "5  0.750000                    f   Fully Paid  \n",
       "\n",
       "[5 rows x 21 columns]"
      ]
     },
     "execution_count": 46,
     "metadata": {},
     "output_type": "execute_result"
    }
   ],
   "source": [
    "X_clean = df.loc[df.loan_status != 'Current', features] #features is at end to specify which columns we are specifically interested in looking through and using in X_clean dataframe\n",
    "#the cleaned dataframe is one that has it where the loan status is not equal to current\n",
    "#again, using loc as it lets us access rows and columns by label(s) or a boolean/conditional lookup\n",
    "X_clean.head() #get overview of new dataframe that is prepped for modelling\n",
    "\n",
    "#features.append()"
   ]
  },
  {
   "cell_type": "code",
   "execution_count": 47,
   "metadata": {
    "_cell_guid": "b1290e10-3cf4-4d8f-84c9-8e3c8fd7576a",
    "_uuid": "22bb532654468e2733a030fb6456e4f72003b826"
   },
   "outputs": [],
   "source": [
    "mask = (X_clean.loan_status == 'Charged Off')  # == is a python operator that checks if two values are equal to each other or not\n",
    "#if they are, it returns True, and False if not\n",
    "#this line creates a boolean condition, where mask = True if the loan status is 'Charged Off', and mask = false if not \n",
    "X_clean['target'] = 0\n",
    "#this creates a new column called 'target', which stands for the target variable and end product we are trying to predict\n",
    "#sets target to 0 for all values\n",
    "X_clean.loc[mask,'target'] = 1\n",
    "#this uses .loc method to access cleaned dataframe with mask and 'target arguments', meaning that if mask is true, to set target for that specific data point in the column equal to one\n",
    "#this is important as this essentially gives us a clear way to point out which data points we are interested in\n",
    "#as mask is reflecting which loan statuses are charged off or not, and helping to assign charged off points a value of 1 with the latest line of code"
   ]
  },
  {
   "cell_type": "markdown",
   "metadata": {
    "_cell_guid": "fec59633-166f-4329-afc9-5a292e2e0eb8",
    "_uuid": "d69d03e470fac24485bdb7c1deefb00c02e17d6b"
   },
   "source": [
    "## A few last touches\n",
    "We may want to transform categorical variables in continuous variables using the One Hot Encoder. `pandas` has a built-in function for this.\n",
    "\n",
    "Clarification: One hot encoding is a method that converts categorical variables into binary vectors that can be utilized by Machine Learning algorithms to do a better job with predictions.\n",
    "\n",
    "The categorical value represents the numerical value of the entry in the dataset.\n",
    "\n",
    "We use one hot encoder to perform “binarization” of the category and include it as a feature to train the model."
   ]
  },
  {
   "cell_type": "code",
   "execution_count": 48,
   "metadata": {
    "_cell_guid": "b639f27c-b659-4be0-9b13-b02741c5d181",
    "_uuid": "1daa8573b1576dc15a42c878830245447ee3f83c"
   },
   "outputs": [],
   "source": [
    "cat_features = ['riskyDescr', 'noJobProvided', 'term','amt_difference', 'grade', 'home_ownership', 'verification_status', 'purpose', 'delinq_2yrs_cat', 'inq_last_6mths_cat', 'pub_rec_cat', 'initial_list_status']\n",
    "#make a list of the categorical variables we want to transform using one hot encoder\n",
    "\n",
    "X_clean.dropna(axis=0, how = 'any', inplace = True)\n",
    "# Drop any residual missing values, as this will tamper with one hot encoder\n",
    "\n",
    "X = pd.get_dummies(X_clean[X_clean.columns[:-2]], columns=cat_features).astype(float) #setting x values #FIGURE OUT\n",
    "#Convert categorical variable into dummy/indicator variables using get_dummies\n",
    "#X_clean[X_clean.columns[:-2]] = specify the dataframe wwe are using, X_CLean, specify using all columns except the last two (initial_list_status and loan_status)\n",
    "#Do you know why we are not including these two columns?\n",
    "#Columns = cat_features specifies which columns in the DataFrame to be encoded. If columns is None then all the columns with object or category dtype will be converted.\n",
    "#encode as type float\n",
    "y = X_clean['target'] \n",
    "#assign the target values from dataframe to y"
   ]
  },
  {
   "cell_type": "code",
   "execution_count": 49,
   "metadata": {},
   "outputs": [
    {
     "name": "stdout",
     "output_type": "stream",
     "text": [
      "0         0\n",
      "1         1\n",
      "2         0\n",
      "3         0\n",
      "5         0\n",
      "7         0\n",
      "8         1\n",
      "9         1\n",
      "10        0\n",
      "11        0\n",
      "12        1\n",
      "13        0\n",
      "14        1\n",
      "15        0\n",
      "16        0\n",
      "17        0\n",
      "18        0\n",
      "19        0\n",
      "20        0\n",
      "21        1\n",
      "22        0\n",
      "23        0\n",
      "24        1\n",
      "25        0\n",
      "26        1\n",
      "27        1\n",
      "28        0\n",
      "29        0\n",
      "30        0\n",
      "31        0\n",
      "         ..\n",
      "887202    0\n",
      "887206    0\n",
      "887219    0\n",
      "887235    0\n",
      "887252    0\n",
      "887253    0\n",
      "887258    1\n",
      "887262    0\n",
      "887267    0\n",
      "887268    0\n",
      "887272    1\n",
      "887279    1\n",
      "887280    0\n",
      "887283    0\n",
      "887284    0\n",
      "887294    1\n",
      "887307    1\n",
      "887312    1\n",
      "887326    0\n",
      "887334    1\n",
      "887336    0\n",
      "887341    0\n",
      "887349    0\n",
      "887350    0\n",
      "887351    0\n",
      "887355    1\n",
      "887368    0\n",
      "887370    0\n",
      "887373    0\n",
      "887375    1\n",
      "Name: target, Length: 285572, dtype: int64\n"
     ]
    }
   ],
   "source": [
    "print(y) #check values for y, see it contains all values for target, which are either 0 or 1 and represent if specific row is charged off or not"
   ]
  },
  {
   "cell_type": "markdown",
   "metadata": {
    "_cell_guid": "1d1ca51d-eb60-4434-b9be-4af8ba2c94e3",
    "_uuid": "1a9cedc0ad7882c022c7a553bef9f007746c8dfa"
   },
   "source": [
    "## The models\n",
    "\n",
    "Let's start modelling by importing a few libraries. We must also make sure to standardize all the features and data we are using for the models, in order to reduce quality distillation of our models.\n",
    "\n",
    "We are importing several modules from sklearn and imblearn which are useful for modelling and analysis.\n",
    "\n",
    "Regarding scaling, note that many estimators are designed with the assumption that each feature takes values close to zero or more importantly that all features vary on comparable scales. In particular, metric-based estimators often assume approximately standardized data (centered features with unit variances). A notable exception are decision tree-based estimators that are robust to arbitrary scaling of the data."
   ]
  },
  {
   "cell_type": "code",
   "execution_count": 50,
   "metadata": {
    "_cell_guid": "321143d8-50b5-47fb-93a6-f61aa81844d8",
    "_uuid": "d1ed4664766cf56052bc8ca6121df579e2f529c8"
   },
   "outputs": [
    {
     "name": "stdout",
     "output_type": "stream",
     "text": [
      "[[-1.06342482 -1.05092656  1.19312049 ... -0.38225728  0.67045937\n",
      "  -0.67045937]\n",
      " [-1.36792459 -1.46919029 -1.43222345 ... -0.38225728  0.67045937\n",
      "  -0.67045937]\n",
      " [-1.38010458 -1.369739    1.19312049 ... -0.38225728  0.67045937\n",
      "  -0.67045937]\n",
      " ...\n",
      " [-0.91421993 -0.81752047 -1.14051857 ... -0.38225728  0.67045937\n",
      "  -0.67045937]\n",
      " [-1.18522473 -1.19819566  1.19312049 ...  2.61603913  0.67045937\n",
      "  -0.67045937]\n",
      " [-0.35089537 -0.09225668  0.02630096 ... -0.38225728  0.67045937\n",
      "  -0.67045937]]\n",
      "   \n",
      "(285572, 54)\n"
     ]
    }
   ],
   "source": [
    "from sklearn.linear_model import LogisticRegression #Imports logistic regression feature for analysis\n",
    "from sklearn.model_selection import train_test_split #Imports train testing split, which split arrays or matrices into random train and test subsets\n",
    "#chooses a random subset (a specified fraction) of X and y as a training sample, uses the remainder as a test sample. random_state sets the initial value.\n",
    "from sklearn.model_selection import cross_val_score # Allows us to evaluate data by cross-validation\n",
    "#Learning the parameters of a prediction function and testing it on the same data is a methodological mistake: \n",
    "#a model that would just repeat the labels of the samples that it has just seen would have a perfect score but \n",
    "#would fail to predict anything useful on yet-unseen data. This situation is called overfitting. \n",
    "#To avoid it, it is common practice when performing a (supervised) machine learning experiment to \n",
    "#hold out part of the available data as a test set X_test, y_test. \n",
    "from sklearn import metrics #The sklearn.metrics module includes score functions, performance metrics \n",
    "#and pairwise metrics and distance computations.\n",
    "from sklearn import preprocessing #The sklearn.preprocessing package provides several common utility \n",
    "#functions and transformer classes to change raw feature vectors into a representation that is more \n",
    "#suitable for the downstream estimators.\n",
    "from sklearn.ensemble import RandomForestClassifier #import random forest classifier to use random forest\n",
    "from imblearn.over_sampling import SMOTE #Import SMOTE feature, explained below\n",
    "\n",
    "X_scaled = preprocessing.scale(X) #standardize data set along x axis and scale properly\n",
    "print(X_scaled)\n",
    "print('   ')\n",
    "print(X_scaled.shape) #dimensions"
   ]
  },
  {
   "cell_type": "markdown",
   "metadata": {},
   "source": [
    "Standardization of datasets is a common requirement for many machine learning estimators implemented in scikit-learn; they might behave badly if the individual features do not more or less look like standard normally distributed data: Gaussian with zero mean and unit variance.\n",
    "\n",
    "In practice we often ignore the shape of the distribution and just transform the data to center it by removing the mean value of each feature, then scale it by dividing non-constant features by their standard deviation.\n",
    "\n",
    "For instance, many elements used in the objective function of a learning algorithm (such as the RBF kernel of Support Vector Machines or the l1 and l2 regularizers of linear models) assume that all features are centered around zero and have variance in the same order. If a feature has a variance that is orders of magnitude larger than others, it might dominate the objective function and make the estimator unable to learn from other features correctly as expected.\n",
    "\n",
    "The function scale we use above provides a quick and easy way to perform this operation on array-like datasets."
   ]
  },
  {
   "cell_type": "markdown",
   "metadata": {
    "_cell_guid": "dbbbf1c4-d8a8-40bd-8fb5-224e79288953",
    "_uuid": "30c0380aec61ee9c10ff20eab0fc60e9b62a4ecb"
   },
   "source": [
    "We will now run two models: Logistic Regression and Random Forest.\n",
    "\n",
    "Through these models we will make predictions and model the roc curve of the estimators. "
   ]
  },
  {
   "cell_type": "code",
   "execution_count": 51,
   "metadata": {
    "_cell_guid": "6f9f58c5-0229-4f20-b036-362033ea1b7d",
    "_uuid": "c052779ea2ba97a6ff7a648271fe8c366ceb9a61"
   },
   "outputs": [],
   "source": [
    "def run_models(X_train, y_train, X_test, y_test, model_type = 'Non-balanced'): #run_models is used below to run them\n",
    "    #define the funciton run models, with the parameters:\n",
    "    #X_train: training data set\n",
    "    #Y_train: set of labels to all the data in x_train\n",
    "    #The training set is a subset of the data set used to train a model.\n",
    "    #X_test: test data set\n",
    "    #y_test:  set of labels to all the data in x_test\n",
    "    #model_type: specify the type of model we want to use\n",
    "    #we select non-balanced for now, just to see how the initial model will fare\n",
    "    \n",
    "    clfs = {\n",
    "            'LogisticRegression' : LogisticRegression(),\n",
    "            'RandomForestClassifier': RandomForestClassifier(n_estimators=10) #n_estimators sets the number of trees in forest for model\n",
    "            }\n",
    "    cols = ['model','matthews_corrcoef', 'roc_auc_score', 'precision_score', 'recall_score','f1_score']\n",
    "\n",
    "    #Establish which methods we want to use - Logistic Regression and Random Forest - with the clfs line that creates a dictionary\n",
    "    #of the two\n",
    "    #cols establishes a list of the specific columns of metrics we want\n",
    "    \n",
    "    models_report = pd.DataFrame(columns = cols) #this is used to generate an empty model report\n",
    "    conf_matrix = dict() #create a dictionary for the confidence matrix that assigns the confidence values to specific keys\n",
    "\n",
    "    for clf, clf_name in zip(clfs.values(), clfs.keys()): \n",
    "        #establish a for loop saying that for each method name and value,\n",
    "\n",
    "        clf.fit(X_train, y_train)\n",
    "        #Train the model by fitting it to data, using the training data set as inputs\n",
    "        \n",
    "        y_pred = clf.predict(X_test) #the predicted labels that will be returned from \n",
    "        #.predict, which predicts target values of X given a model\n",
    "        y_score = clf.predict_proba(X_test)[:,1] #the Target scores, \n",
    "        #can either be probability estimates of the positive class, confidence values, \n",
    "        #or non-thresholded measure of decisions (as returned by “decision_function” on some classifiers).\n",
    "        #obtained using .predict_proba, which is a\n",
    "        #method of a (soft) classifier outputting the probability of the instance being in each of the classes.\n",
    "        \n",
    "        print('computing {} - {} '.format(clf_name, model_type)) #print output saying that the file is computing\n",
    "        #specific model, which is why.format is used at end to pull name and model type to plug into statement\n",
    "\n",
    "        tmp = pd.Series({'model_type': model_type,\n",
    "                         'model': clf_name,\n",
    "                         'roc_auc_score' : metrics.roc_auc_score(y_test, y_score),\n",
    "                         'matthews_corrcoef': metrics.matthews_corrcoef(y_test, y_pred),\n",
    "                         'precision_score': metrics.precision_score(y_test, y_pred),\n",
    "                         'recall_score': metrics.recall_score(y_test, y_pred),\n",
    "                         'f1_score': metrics.f1_score(y_test, y_pred)})\n",
    "        #create a dictionary of series names and keys assigning values for what each item is\n",
    "        #the keys are the desired items we want in the end for our model analysis, with the values\n",
    "        #explaining how each key is assigned/calculated \n",
    "        \n",
    "        models_report = models_report.append(tmp, ignore_index = True)\n",
    "        #append the tmp values to our currently empty model report\n",
    "        #ignore_index = True means we ignore and do not use the index labels, do this as the report needs to show\n",
    "        #only the names, not the methods for how each item is analyzed\n",
    "        conf_matrix[clf_name] = pd.crosstab(y_test, y_pred, rownames=['True'], colnames= ['Predicted'], margins=False)\n",
    "        #establish the confidence matrix, crosstab Compute a simple cross-tabulation of two (or more) factors.\n",
    "        #Cross tabulation is a tool that allows you compare the relationship between two or more factors.\n",
    "        #Can you tell what factors are we cross tabulating?\n",
    "        fpr, tpr, thresholds = metrics.roc_curve(y_test, y_score, drop_intermediate = False, pos_label = 1)\n",
    "        #the returns of the ROC curve, all three are arrays \n",
    "        #hence use of metrics.roc_curve, uses y test data and target scores to determine three return values\n",
    "        plt.figure(1, figsize=(6,6))\n",
    "        plt.xlabel('false positive rate')\n",
    "        plt.ylabel('true positive rate')\n",
    "        plt.title('ROC curve - {}'.format(model_type))\n",
    "        plt.plot(fpr, tpr, label = clf_name )\n",
    "        plt.legend(loc=2, prop={'size':11})\n",
    "    plt.plot([0,1],[0,1], color = 'black')\n",
    "        #plotting dimensions and specifics for the result graph\n",
    "    \n",
    "    return models_report, conf_matrix\n",
    "    #after running function, also give us models_report and confidence matrix for methods"
   ]
  },
  {
   "cell_type": "markdown",
   "metadata": {
    "_cell_guid": "9dae5eb4-1712-4dc9-a0a5-53aefbb64c94",
    "_uuid": "ca8c1c8a9d5dd26ee0f095722c25269636c60521"
   },
   "source": [
    "### Model with unbalanced classes\n",
    "If we do not modify the class ratios our model has very poor predictive power. The area ander the curve (AUC) is about 0.6, suggesting that we perform better than random. However, the recall is zero: we cannot predict the target variable at all. This might be either because there is something wrong with the metrics or because the classes are too unbalanced. "
   ]
  },
  {
   "cell_type": "code",
   "execution_count": 52,
   "metadata": {
    "_cell_guid": "2e05aab4-f1db-4ddb-99be-7c590d1c5370",
    "_uuid": "2e4199ada384ca69007b31f1d7eac01735483658"
   },
   "outputs": [
    {
     "name": "stdout",
     "output_type": "stream",
     "text": [
      "computing LogisticRegression - Non-balanced \n",
      "computing RandomForestClassifier - Non-balanced \n"
     ]
    },
    {
     "data": {
      "image/png": "[encoded data removed]",
      "text/plain": [
       "<Figure size 432x432 with 1 Axes>"
      ]
     },
     "metadata": {},
     "output_type": "display_data"
    }
   ],
   "source": [
    "#mpl.rc(\"savefig\", dpi=300)\n",
    "\n",
    "X_train, X_test, y_train, y_test = train_test_split(X_scaled, y.values, test_size=0.4, random_state=0)\n",
    "#feed training and testing data into train_test_split\n",
    "#test size is 40%, making training set 60%\n",
    "#If int, random_state is the seed used by the random number generator;\n",
    "#A random seed (or seed state, or just seed) is a number (or vector) \n",
    "#used to initialize a pseudorandom number generator and set initial value \n",
    "#random_state is 0\n",
    "\n",
    "models_report, conf_matrix = run_models(X_train, y_train, X_test, y_test, model_type = 'Non-balanced')\n",
    "#now focus on models report and confidence matrix\n",
    "#run models using data set and non balanced, outputs will be assigned to output report and matrix"
   ]
  },
  {
   "cell_type": "markdown",
   "metadata": {},
   "source": [
    "What does this graph mean? "
   ]
  },
  {
   "cell_type": "code",
   "execution_count": 53,
   "metadata": {
    "_cell_guid": "69a02ef6-8030-480b-905e-207bf1200de3",
    "_uuid": "195d43c8c745c86e19b66a5dee0e663769807d21"
   },
   "outputs": [
    {
     "data": {
      "text/html": [
       "<div>\n",
       "<style scoped>\n",
       "    .dataframe tbody tr th:only-of-type {\n",
       "        vertical-align: middle;\n",
       "    }\n",
       "\n",
       "    .dataframe tbody tr th {\n",
       "        vertical-align: top;\n",
       "    }\n",
       "\n",
       "    .dataframe thead th {\n",
       "        text-align: right;\n",
       "    }\n",
       "</style>\n",
       "<table border=\"1\" class=\"dataframe\">\n",
       "  <thead>\n",
       "    <tr style=\"text-align: right;\">\n",
       "      <th></th>\n",
       "      <th>model</th>\n",
       "      <th>matthews_corrcoef</th>\n",
       "      <th>roc_auc_score</th>\n",
       "      <th>precision_score</th>\n",
       "      <th>recall_score</th>\n",
       "      <th>f1_score</th>\n",
       "      <th>model_type</th>\n",
       "    </tr>\n",
       "  </thead>\n",
       "  <tbody>\n",
       "    <tr>\n",
       "      <th>0</th>\n",
       "      <td>LogisticRegression</td>\n",
       "      <td>0.031372</td>\n",
       "      <td>0.680855</td>\n",
       "      <td>0.608108</td>\n",
       "      <td>0.002488</td>\n",
       "      <td>0.004956</td>\n",
       "      <td>Non-balanced</td>\n",
       "    </tr>\n",
       "    <tr>\n",
       "      <th>1</th>\n",
       "      <td>RandomForestClassifier</td>\n",
       "      <td>0.062488</td>\n",
       "      <td>0.605514</td>\n",
       "      <td>0.324070</td>\n",
       "      <td>0.038045</td>\n",
       "      <td>0.068095</td>\n",
       "      <td>Non-balanced</td>\n",
       "    </tr>\n",
       "  </tbody>\n",
       "</table>\n",
       "</div>"
      ],
      "text/plain": [
       "                    model  matthews_corrcoef  roc_auc_score  precision_score  \\\n",
       "0      LogisticRegression           0.031372       0.680855         0.608108   \n",
       "1  RandomForestClassifier           0.062488       0.605514         0.324070   \n",
       "\n",
       "   recall_score  f1_score    model_type  \n",
       "0      0.002488  0.004956  Non-balanced  \n",
       "1      0.038045  0.068095  Non-balanced  "
      ]
     },
     "execution_count": 53,
     "metadata": {},
     "output_type": "execute_result"
    }
   ],
   "source": [
    "models_report #now to get a report of the models"
   ]
  },
  {
   "cell_type": "code",
   "execution_count": 54,
   "metadata": {
    "_cell_guid": "b55d0ff0-54f5-4979-bf59-bb6f904f73cc",
    "_uuid": "3c4b617386fd76f71d245e4f682894882ac1fab9"
   },
   "outputs": [
    {
     "data": {
      "text/html": [
       "<div>\n",
       "<style scoped>\n",
       "    .dataframe tbody tr th:only-of-type {\n",
       "        vertical-align: middle;\n",
       "    }\n",
       "\n",
       "    .dataframe tbody tr th {\n",
       "        vertical-align: top;\n",
       "    }\n",
       "\n",
       "    .dataframe thead th {\n",
       "        text-align: right;\n",
       "    }\n",
       "</style>\n",
       "<table border=\"1\" class=\"dataframe\">\n",
       "  <thead>\n",
       "    <tr style=\"text-align: right;\">\n",
       "      <th>Predicted</th>\n",
       "      <th>0</th>\n",
       "      <th>1</th>\n",
       "    </tr>\n",
       "    <tr>\n",
       "      <th>True</th>\n",
       "      <th></th>\n",
       "      <th></th>\n",
       "    </tr>\n",
       "  </thead>\n",
       "  <tbody>\n",
       "    <tr>\n",
       "      <th>0</th>\n",
       "      <td>96116</td>\n",
       "      <td>29</td>\n",
       "    </tr>\n",
       "    <tr>\n",
       "      <th>1</th>\n",
       "      <td>18039</td>\n",
       "      <td>45</td>\n",
       "    </tr>\n",
       "  </tbody>\n",
       "</table>\n",
       "</div>"
      ],
      "text/plain": [
       "Predicted      0   1\n",
       "True                \n",
       "0          96116  29\n",
       "1          18039  45"
      ]
     },
     "execution_count": 54,
     "metadata": {},
     "output_type": "execute_result"
    }
   ],
   "source": [
    "conf_matrix['LogisticRegression'] #the confidence matrix for logistic regression"
   ]
  },
  {
   "cell_type": "code",
   "execution_count": 55,
   "metadata": {
    "scrolled": true
   },
   "outputs": [
    {
     "data": {
      "text/html": [
       "<div>\n",
       "<style scoped>\n",
       "    .dataframe tbody tr th:only-of-type {\n",
       "        vertical-align: middle;\n",
       "    }\n",
       "\n",
       "    .dataframe tbody tr th {\n",
       "        vertical-align: top;\n",
       "    }\n",
       "\n",
       "    .dataframe thead th {\n",
       "        text-align: right;\n",
       "    }\n",
       "</style>\n",
       "<table border=\"1\" class=\"dataframe\">\n",
       "  <thead>\n",
       "    <tr style=\"text-align: right;\">\n",
       "      <th>Predicted</th>\n",
       "      <th>0</th>\n",
       "      <th>1</th>\n",
       "    </tr>\n",
       "    <tr>\n",
       "      <th>True</th>\n",
       "      <th></th>\n",
       "      <th></th>\n",
       "    </tr>\n",
       "  </thead>\n",
       "  <tbody>\n",
       "    <tr>\n",
       "      <th>0</th>\n",
       "      <td>94710</td>\n",
       "      <td>1435</td>\n",
       "    </tr>\n",
       "    <tr>\n",
       "      <th>1</th>\n",
       "      <td>17396</td>\n",
       "      <td>688</td>\n",
       "    </tr>\n",
       "  </tbody>\n",
       "</table>\n",
       "</div>"
      ],
      "text/plain": [
       "Predicted      0     1\n",
       "True                  \n",
       "0          94710  1435\n",
       "1          17396   688"
      ]
     },
     "execution_count": 55,
     "metadata": {},
     "output_type": "execute_result"
    }
   ],
   "source": [
    "conf_matrix['RandomForestClassifier'] #the confidence matrix for random forest"
   ]
  },
  {
   "cell_type": "markdown",
   "metadata": {},
   "source": [
    "# Improving Our Model\n",
    "##Modelling with Balanced Classes"
   ]
  },
  {
   "cell_type": "markdown",
   "metadata": {},
   "source": [
    "Using SMOTE ( Synthetic Minority Over-sampling Technique), we can aritifically balance our classes and get a better prediction.\n",
    "\n",
    "We use a K-nearest neighbour approach and make feature vectors resembling the target variable's. The minority class is oversampled. With this, the model performance will improve."
   ]
  },
  {
   "cell_type": "code",
   "execution_count": 56,
   "metadata": {},
   "outputs": [
    {
     "name": "stdout",
     "output_type": "stream",
     "text": [
      "computing LogisticRegression - Balanced \n",
      "computing RandomForestClassifier - Balanced \n"
     ]
    },
    {
     "data": {
      "image/png": "[encoded data removed]",
      "text/plain": [
       "<Figure size 432x432 with 1 Axes>"
      ]
     },
     "metadata": {},
     "output_type": "display_data"
    }
   ],
   "source": [
    "index_split = int(len(X)/2)#split index in by length of X/2\n",
    "X_train, y_train = SMOTE().fit_sample(X_scaled[0:index_split, :], y[0:index_split])\n",
    "#use SMOTE to fit sample\n",
    "#Define X parameter to fit to and Y\n",
    "#new training data set\n",
    "X_test, y_test = X_scaled[index_split:], y[index_split:]\n",
    "#define test data\n",
    "\n",
    "#scores = cross_val_score(clf, X_scaled, y , cv=5, scoring='roc_auc')\n",
    "\n",
    "models_report_bal, conf_matrix_bal = run_models(X_train, y_train, X_test, y_test, model_type = 'Balanced')\n",
    "#same as before, but change model type to balanced now\n",
    "#The “balanced” mode uses the values of y to automatically adjust weights \n",
    "#inversely proportional to class frequencies in the input data as n_samples / (n_classes * np.bincount(y))"
   ]
  },
  {
   "cell_type": "code",
   "execution_count": null,
   "metadata": {},
   "outputs": [],
   "source": []
  },
  {
   "cell_type": "code",
   "execution_count": 57,
   "metadata": {},
   "outputs": [
    {
     "data": {
      "text/html": [
       "<div>\n",
       "<style scoped>\n",
       "    .dataframe tbody tr th:only-of-type {\n",
       "        vertical-align: middle;\n",
       "    }\n",
       "\n",
       "    .dataframe tbody tr th {\n",
       "        vertical-align: top;\n",
       "    }\n",
       "\n",
       "    .dataframe thead th {\n",
       "        text-align: right;\n",
       "    }\n",
       "</style>\n",
       "<table border=\"1\" class=\"dataframe\">\n",
       "  <thead>\n",
       "    <tr style=\"text-align: right;\">\n",
       "      <th></th>\n",
       "      <th>model</th>\n",
       "      <th>matthews_corrcoef</th>\n",
       "      <th>roc_auc_score</th>\n",
       "      <th>precision_score</th>\n",
       "      <th>recall_score</th>\n",
       "      <th>f1_score</th>\n",
       "      <th>model_type</th>\n",
       "    </tr>\n",
       "  </thead>\n",
       "  <tbody>\n",
       "    <tr>\n",
       "      <th>0</th>\n",
       "      <td>LogisticRegression</td>\n",
       "      <td>0.162937</td>\n",
       "      <td>0.661242</td>\n",
       "      <td>0.197635</td>\n",
       "      <td>0.729573</td>\n",
       "      <td>0.311018</td>\n",
       "      <td>Balanced</td>\n",
       "    </tr>\n",
       "    <tr>\n",
       "      <th>1</th>\n",
       "      <td>RandomForestClassifier</td>\n",
       "      <td>0.082658</td>\n",
       "      <td>0.601675</td>\n",
       "      <td>0.214084</td>\n",
       "      <td>0.217188</td>\n",
       "      <td>0.215625</td>\n",
       "      <td>Balanced</td>\n",
       "    </tr>\n",
       "  </tbody>\n",
       "</table>\n",
       "</div>"
      ],
      "text/plain": [
       "                    model  matthews_corrcoef  roc_auc_score  precision_score  \\\n",
       "0      LogisticRegression           0.162937       0.661242         0.197635   \n",
       "1  RandomForestClassifier           0.082658       0.601675         0.214084   \n",
       "\n",
       "   recall_score  f1_score model_type  \n",
       "0      0.729573  0.311018   Balanced  \n",
       "1      0.217188  0.215625   Balanced  "
      ]
     },
     "execution_count": 57,
     "metadata": {},
     "output_type": "execute_result"
    }
   ],
   "source": [
    "models_report_bal #balanced report"
   ]
  },
  {
   "cell_type": "code",
   "execution_count": 58,
   "metadata": {},
   "outputs": [
    {
     "data": {
      "text/html": [
       "<div>\n",
       "<style scoped>\n",
       "    .dataframe tbody tr th:only-of-type {\n",
       "        vertical-align: middle;\n",
       "    }\n",
       "\n",
       "    .dataframe tbody tr th {\n",
       "        vertical-align: top;\n",
       "    }\n",
       "\n",
       "    .dataframe thead th {\n",
       "        text-align: right;\n",
       "    }\n",
       "</style>\n",
       "<table border=\"1\" class=\"dataframe\">\n",
       "  <thead>\n",
       "    <tr style=\"text-align: right;\">\n",
       "      <th>Predicted</th>\n",
       "      <th>0</th>\n",
       "      <th>1</th>\n",
       "    </tr>\n",
       "    <tr>\n",
       "      <th>True</th>\n",
       "      <th></th>\n",
       "      <th></th>\n",
       "    </tr>\n",
       "  </thead>\n",
       "  <tbody>\n",
       "    <tr>\n",
       "      <th>0</th>\n",
       "      <td>61372</td>\n",
       "      <td>60865</td>\n",
       "    </tr>\n",
       "    <tr>\n",
       "      <th>1</th>\n",
       "      <td>5557</td>\n",
       "      <td>14992</td>\n",
       "    </tr>\n",
       "  </tbody>\n",
       "</table>\n",
       "</div>"
      ],
      "text/plain": [
       "Predicted      0      1\n",
       "True                   \n",
       "0          61372  60865\n",
       "1           5557  14992"
      ]
     },
     "execution_count": 58,
     "metadata": {},
     "output_type": "execute_result"
    }
   ],
   "source": [
    "conf_matrix_bal['LogisticRegression'] #balanced logistic regression"
   ]
  },
  {
   "cell_type": "code",
   "execution_count": 59,
   "metadata": {},
   "outputs": [
    {
     "data": {
      "text/html": [
       "<div>\n",
       "<style scoped>\n",
       "    .dataframe tbody tr th:only-of-type {\n",
       "        vertical-align: middle;\n",
       "    }\n",
       "\n",
       "    .dataframe tbody tr th {\n",
       "        vertical-align: top;\n",
       "    }\n",
       "\n",
       "    .dataframe thead th {\n",
       "        text-align: right;\n",
       "    }\n",
       "</style>\n",
       "<table border=\"1\" class=\"dataframe\">\n",
       "  <thead>\n",
       "    <tr style=\"text-align: right;\">\n",
       "      <th>Predicted</th>\n",
       "      <th>0</th>\n",
       "      <th>1</th>\n",
       "    </tr>\n",
       "    <tr>\n",
       "      <th>True</th>\n",
       "      <th></th>\n",
       "      <th></th>\n",
       "    </tr>\n",
       "  </thead>\n",
       "  <tbody>\n",
       "    <tr>\n",
       "      <th>0</th>\n",
       "      <td>105853</td>\n",
       "      <td>16384</td>\n",
       "    </tr>\n",
       "    <tr>\n",
       "      <th>1</th>\n",
       "      <td>16086</td>\n",
       "      <td>4463</td>\n",
       "    </tr>\n",
       "  </tbody>\n",
       "</table>\n",
       "</div>"
      ],
      "text/plain": [
       "Predicted       0      1\n",
       "True                    \n",
       "0          105853  16384\n",
       "1           16086   4463"
      ]
     },
     "execution_count": 59,
     "metadata": {},
     "output_type": "execute_result"
    }
   ],
   "source": [
    "conf_matrix_bal['RandomForestClassifier'] #balanced logistic regression"
   ]
  },
  {
   "cell_type": "code",
   "execution_count": null,
   "metadata": {},
   "outputs": [],
   "source": []
  }
 ],
 "metadata": {
  "kernelspec": {
   "display_name": "Python 3",
   "language": "python",
   "name": "python3"
  },
  "language_info": {
   "codemirror_mode": {
    "name": "ipython",
    "version": 3
   },
   "file_extension": ".py",
   "mimetype": "text/x-python",
   "name": "python",
   "nbconvert_exporter": "python",
   "pygments_lexer": "ipython3",
   "version": "3.6.5"
  }
 },
 "nbformat": 4,
 "nbformat_minor": 1
}
